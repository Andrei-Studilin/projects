{
 "cells": [
  {
   "cell_type": "markdown",
   "id": "unauthorized-puppy",
   "metadata": {},
   "source": [
    "## Проект 2. Разведывательный анализ данных\n",
    "\n",
    "Задача проекта - отследить влияние условий жизни учащихся в возрасте от 15 до 22 лет на их успеваемость по математике."
   ]
  },
  {
   "cell_type": "code",
   "execution_count": 1,
   "id": "exclusive-density",
   "metadata": {},
   "outputs": [],
   "source": [
    "import pandas as pd\n",
    "import matplotlib.pyplot as plt\n",
    "import seaborn as sns\n",
    "from itertools import combinations\n",
    "from scipy.stats import ttest_ind\n",
    "\n",
    "pd.set_option('display.max_rows', 50) #показывать больше строк\n",
    "pd.set_option('display.max_columns', 50) #показывать больше строк\n"
   ]
  },
  {
   "cell_type": "code",
   "execution_count": 2,
   "id": "controversial-parts",
   "metadata": {},
   "outputs": [],
   "source": [
    "students = pd.read_csv('stud_math.xls') #загружаем датасет"
   ]
  },
  {
   "cell_type": "code",
   "execution_count": 3,
   "id": "universal-boston",
   "metadata": {},
   "outputs": [],
   "source": [
    "'''Предобработка'''\n",
    "\n",
    "# преобразование номинативных переменных в числовые\n",
    "def transform_column(string): \n",
    "    if string == 'nan':\n",
    "        return None\n",
    "    elif string == 'yes': \n",
    "        return 1\n",
    "    elif string == 'no':\n",
    "        return 0\n",
    "\n",
    "#переименовываем столбцы\n",
    "students.columns = ['school', 'sex', 'age', 'address', 'famsize', 'Pstatus',\n",
    "                   'Medu', 'Fedu', 'Mjob', 'Fjob', 'reason', 'guardian',\n",
    "                   'traveltime', 'studytime', 'failures', 'schoolsup',\n",
    "                    'famsup', 'paid', 'activities', 'nursery',\n",
    "                    'studytime_granular', 'higher', 'internet', 'romantic',\n",
    "                    'famrel', 'freetime', 'goout', 'health', 'absences',\n",
    "                    'score']\n",
    "\n",
    "def get_boxplot(column): # построение box-plot\n",
    "    fig, ax = plt.subplots(figsize = (14,4))\n",
    "    sns.boxplot(x = column, y = 'score',\n",
    "                data = students, ax=ax)\n",
    "    plt.xticks(rotation=45)\n",
    "    ax.set_title('Boxplot for' + column)\n",
    "    plt.show()\n",
    "    \n",
    "def get_stat_dif(column): # тест Стьюдента\n",
    "    cols = students.loc[:, column].value_counts().index[:10]\n",
    "    combinations_all = list(combinations(cols, 2))\n",
    "    for comb in combinations_all:\n",
    "        if ttest_ind(students.loc[students.loc[:, column]==comb[0], 'score'],\n",
    "                    students.loc[students.loc[:, column]==comb[1],\n",
    "                                 'score']). pvalue\\\n",
    "        <=0.1/len(combinations_all): # Учли поправку Бонферони\n",
    "            print('Найдены статистически значимые различия для колонки', column)\n",
    "            break"
   ]
  },
  {
   "cell_type": "code",
   "execution_count": 4,
   "id": "instructional-examination",
   "metadata": {},
   "outputs": [
    {
     "data": {
      "text/html": [
       "<div>\n",
       "<style scoped>\n",
       "    .dataframe tbody tr th:only-of-type {\n",
       "        vertical-align: middle;\n",
       "    }\n",
       "\n",
       "    .dataframe tbody tr th {\n",
       "        vertical-align: top;\n",
       "    }\n",
       "\n",
       "    .dataframe thead th {\n",
       "        text-align: right;\n",
       "    }\n",
       "</style>\n",
       "<table border=\"1\" class=\"dataframe\">\n",
       "  <thead>\n",
       "    <tr style=\"text-align: right;\">\n",
       "      <th></th>\n",
       "      <th>school</th>\n",
       "      <th>sex</th>\n",
       "      <th>age</th>\n",
       "      <th>address</th>\n",
       "      <th>famsize</th>\n",
       "      <th>Pstatus</th>\n",
       "      <th>Medu</th>\n",
       "      <th>Fedu</th>\n",
       "      <th>Mjob</th>\n",
       "      <th>Fjob</th>\n",
       "      <th>reason</th>\n",
       "      <th>guardian</th>\n",
       "      <th>traveltime</th>\n",
       "      <th>studytime</th>\n",
       "      <th>failures</th>\n",
       "      <th>schoolsup</th>\n",
       "      <th>famsup</th>\n",
       "      <th>paid</th>\n",
       "      <th>activities</th>\n",
       "      <th>nursery</th>\n",
       "      <th>studytime_granular</th>\n",
       "      <th>higher</th>\n",
       "      <th>internet</th>\n",
       "      <th>romantic</th>\n",
       "      <th>famrel</th>\n",
       "      <th>freetime</th>\n",
       "      <th>goout</th>\n",
       "      <th>health</th>\n",
       "      <th>absences</th>\n",
       "      <th>score</th>\n",
       "    </tr>\n",
       "  </thead>\n",
       "  <tbody>\n",
       "    <tr>\n",
       "      <th>0</th>\n",
       "      <td>GP</td>\n",
       "      <td>F</td>\n",
       "      <td>18</td>\n",
       "      <td>U</td>\n",
       "      <td>NaN</td>\n",
       "      <td>A</td>\n",
       "      <td>4.0</td>\n",
       "      <td>4.0</td>\n",
       "      <td>at_home</td>\n",
       "      <td>teacher</td>\n",
       "      <td>course</td>\n",
       "      <td>mother</td>\n",
       "      <td>2.0</td>\n",
       "      <td>2.0</td>\n",
       "      <td>0.0</td>\n",
       "      <td>yes</td>\n",
       "      <td>no</td>\n",
       "      <td>no</td>\n",
       "      <td>no</td>\n",
       "      <td>yes</td>\n",
       "      <td>-6.0</td>\n",
       "      <td>yes</td>\n",
       "      <td>NaN</td>\n",
       "      <td>no</td>\n",
       "      <td>4.0</td>\n",
       "      <td>3.0</td>\n",
       "      <td>4.0</td>\n",
       "      <td>3.0</td>\n",
       "      <td>6.0</td>\n",
       "      <td>30.0</td>\n",
       "    </tr>\n",
       "    <tr>\n",
       "      <th>1</th>\n",
       "      <td>GP</td>\n",
       "      <td>F</td>\n",
       "      <td>17</td>\n",
       "      <td>U</td>\n",
       "      <td>GT3</td>\n",
       "      <td>NaN</td>\n",
       "      <td>1.0</td>\n",
       "      <td>1.0</td>\n",
       "      <td>at_home</td>\n",
       "      <td>other</td>\n",
       "      <td>course</td>\n",
       "      <td>father</td>\n",
       "      <td>1.0</td>\n",
       "      <td>2.0</td>\n",
       "      <td>0.0</td>\n",
       "      <td>no</td>\n",
       "      <td>yes</td>\n",
       "      <td>no</td>\n",
       "      <td>no</td>\n",
       "      <td>no</td>\n",
       "      <td>-6.0</td>\n",
       "      <td>yes</td>\n",
       "      <td>yes</td>\n",
       "      <td>no</td>\n",
       "      <td>5.0</td>\n",
       "      <td>3.0</td>\n",
       "      <td>3.0</td>\n",
       "      <td>3.0</td>\n",
       "      <td>4.0</td>\n",
       "      <td>30.0</td>\n",
       "    </tr>\n",
       "    <tr>\n",
       "      <th>2</th>\n",
       "      <td>GP</td>\n",
       "      <td>F</td>\n",
       "      <td>15</td>\n",
       "      <td>U</td>\n",
       "      <td>LE3</td>\n",
       "      <td>T</td>\n",
       "      <td>1.0</td>\n",
       "      <td>1.0</td>\n",
       "      <td>at_home</td>\n",
       "      <td>other</td>\n",
       "      <td>other</td>\n",
       "      <td>mother</td>\n",
       "      <td>1.0</td>\n",
       "      <td>2.0</td>\n",
       "      <td>3.0</td>\n",
       "      <td>yes</td>\n",
       "      <td>no</td>\n",
       "      <td>NaN</td>\n",
       "      <td>no</td>\n",
       "      <td>yes</td>\n",
       "      <td>-6.0</td>\n",
       "      <td>yes</td>\n",
       "      <td>yes</td>\n",
       "      <td>NaN</td>\n",
       "      <td>4.0</td>\n",
       "      <td>3.0</td>\n",
       "      <td>2.0</td>\n",
       "      <td>3.0</td>\n",
       "      <td>10.0</td>\n",
       "      <td>50.0</td>\n",
       "    </tr>\n",
       "    <tr>\n",
       "      <th>3</th>\n",
       "      <td>GP</td>\n",
       "      <td>F</td>\n",
       "      <td>15</td>\n",
       "      <td>U</td>\n",
       "      <td>GT3</td>\n",
       "      <td>T</td>\n",
       "      <td>4.0</td>\n",
       "      <td>2.0</td>\n",
       "      <td>health</td>\n",
       "      <td>NaN</td>\n",
       "      <td>home</td>\n",
       "      <td>mother</td>\n",
       "      <td>1.0</td>\n",
       "      <td>3.0</td>\n",
       "      <td>0.0</td>\n",
       "      <td>no</td>\n",
       "      <td>yes</td>\n",
       "      <td>yes</td>\n",
       "      <td>yes</td>\n",
       "      <td>yes</td>\n",
       "      <td>-9.0</td>\n",
       "      <td>yes</td>\n",
       "      <td>yes</td>\n",
       "      <td>yes</td>\n",
       "      <td>3.0</td>\n",
       "      <td>2.0</td>\n",
       "      <td>2.0</td>\n",
       "      <td>5.0</td>\n",
       "      <td>2.0</td>\n",
       "      <td>75.0</td>\n",
       "    </tr>\n",
       "    <tr>\n",
       "      <th>4</th>\n",
       "      <td>GP</td>\n",
       "      <td>F</td>\n",
       "      <td>16</td>\n",
       "      <td>U</td>\n",
       "      <td>GT3</td>\n",
       "      <td>T</td>\n",
       "      <td>3.0</td>\n",
       "      <td>3.0</td>\n",
       "      <td>other</td>\n",
       "      <td>other</td>\n",
       "      <td>home</td>\n",
       "      <td>father</td>\n",
       "      <td>1.0</td>\n",
       "      <td>2.0</td>\n",
       "      <td>0.0</td>\n",
       "      <td>no</td>\n",
       "      <td>yes</td>\n",
       "      <td>yes</td>\n",
       "      <td>no</td>\n",
       "      <td>yes</td>\n",
       "      <td>-6.0</td>\n",
       "      <td>yes</td>\n",
       "      <td>no</td>\n",
       "      <td>no</td>\n",
       "      <td>4.0</td>\n",
       "      <td>3.0</td>\n",
       "      <td>2.0</td>\n",
       "      <td>5.0</td>\n",
       "      <td>4.0</td>\n",
       "      <td>50.0</td>\n",
       "    </tr>\n",
       "    <tr>\n",
       "      <th>5</th>\n",
       "      <td>GP</td>\n",
       "      <td>M</td>\n",
       "      <td>16</td>\n",
       "      <td>U</td>\n",
       "      <td>LE3</td>\n",
       "      <td>T</td>\n",
       "      <td>4.0</td>\n",
       "      <td>3.0</td>\n",
       "      <td>services</td>\n",
       "      <td>other</td>\n",
       "      <td>reputation</td>\n",
       "      <td>mother</td>\n",
       "      <td>1.0</td>\n",
       "      <td>2.0</td>\n",
       "      <td>0.0</td>\n",
       "      <td>no</td>\n",
       "      <td>yes</td>\n",
       "      <td>yes</td>\n",
       "      <td>yes</td>\n",
       "      <td>yes</td>\n",
       "      <td>-6.0</td>\n",
       "      <td>yes</td>\n",
       "      <td>yes</td>\n",
       "      <td>no</td>\n",
       "      <td>5.0</td>\n",
       "      <td>4.0</td>\n",
       "      <td>2.0</td>\n",
       "      <td>5.0</td>\n",
       "      <td>10.0</td>\n",
       "      <td>75.0</td>\n",
       "    </tr>\n",
       "    <tr>\n",
       "      <th>6</th>\n",
       "      <td>GP</td>\n",
       "      <td>M</td>\n",
       "      <td>16</td>\n",
       "      <td>NaN</td>\n",
       "      <td>LE3</td>\n",
       "      <td>T</td>\n",
       "      <td>2.0</td>\n",
       "      <td>2.0</td>\n",
       "      <td>other</td>\n",
       "      <td>other</td>\n",
       "      <td>home</td>\n",
       "      <td>mother</td>\n",
       "      <td>1.0</td>\n",
       "      <td>2.0</td>\n",
       "      <td>0.0</td>\n",
       "      <td>no</td>\n",
       "      <td>no</td>\n",
       "      <td>no</td>\n",
       "      <td>no</td>\n",
       "      <td>yes</td>\n",
       "      <td>-6.0</td>\n",
       "      <td>yes</td>\n",
       "      <td>yes</td>\n",
       "      <td>no</td>\n",
       "      <td>4.0</td>\n",
       "      <td>4.0</td>\n",
       "      <td>4.0</td>\n",
       "      <td>3.0</td>\n",
       "      <td>0.0</td>\n",
       "      <td>55.0</td>\n",
       "    </tr>\n",
       "    <tr>\n",
       "      <th>7</th>\n",
       "      <td>GP</td>\n",
       "      <td>F</td>\n",
       "      <td>17</td>\n",
       "      <td>U</td>\n",
       "      <td>GT3</td>\n",
       "      <td>A</td>\n",
       "      <td>4.0</td>\n",
       "      <td>4.0</td>\n",
       "      <td>other</td>\n",
       "      <td>teacher</td>\n",
       "      <td>home</td>\n",
       "      <td>mother</td>\n",
       "      <td>2.0</td>\n",
       "      <td>2.0</td>\n",
       "      <td>0.0</td>\n",
       "      <td>yes</td>\n",
       "      <td>yes</td>\n",
       "      <td>no</td>\n",
       "      <td>no</td>\n",
       "      <td>yes</td>\n",
       "      <td>-6.0</td>\n",
       "      <td>yes</td>\n",
       "      <td>no</td>\n",
       "      <td>no</td>\n",
       "      <td>4.0</td>\n",
       "      <td>1.0</td>\n",
       "      <td>4.0</td>\n",
       "      <td>1.0</td>\n",
       "      <td>6.0</td>\n",
       "      <td>30.0</td>\n",
       "    </tr>\n",
       "    <tr>\n",
       "      <th>8</th>\n",
       "      <td>GP</td>\n",
       "      <td>M</td>\n",
       "      <td>15</td>\n",
       "      <td>U</td>\n",
       "      <td>LE3</td>\n",
       "      <td>A</td>\n",
       "      <td>3.0</td>\n",
       "      <td>2.0</td>\n",
       "      <td>services</td>\n",
       "      <td>other</td>\n",
       "      <td>home</td>\n",
       "      <td>mother</td>\n",
       "      <td>1.0</td>\n",
       "      <td>2.0</td>\n",
       "      <td>0.0</td>\n",
       "      <td>no</td>\n",
       "      <td>yes</td>\n",
       "      <td>yes</td>\n",
       "      <td>no</td>\n",
       "      <td>yes</td>\n",
       "      <td>-6.0</td>\n",
       "      <td>yes</td>\n",
       "      <td>yes</td>\n",
       "      <td>no</td>\n",
       "      <td>NaN</td>\n",
       "      <td>2.0</td>\n",
       "      <td>2.0</td>\n",
       "      <td>1.0</td>\n",
       "      <td>0.0</td>\n",
       "      <td>95.0</td>\n",
       "    </tr>\n",
       "    <tr>\n",
       "      <th>9</th>\n",
       "      <td>GP</td>\n",
       "      <td>M</td>\n",
       "      <td>15</td>\n",
       "      <td>U</td>\n",
       "      <td>NaN</td>\n",
       "      <td>NaN</td>\n",
       "      <td>3.0</td>\n",
       "      <td>4.0</td>\n",
       "      <td>other</td>\n",
       "      <td>other</td>\n",
       "      <td>home</td>\n",
       "      <td>mother</td>\n",
       "      <td>1.0</td>\n",
       "      <td>2.0</td>\n",
       "      <td>0.0</td>\n",
       "      <td>no</td>\n",
       "      <td>yes</td>\n",
       "      <td>yes</td>\n",
       "      <td>yes</td>\n",
       "      <td>yes</td>\n",
       "      <td>-6.0</td>\n",
       "      <td>yes</td>\n",
       "      <td>yes</td>\n",
       "      <td>no</td>\n",
       "      <td>5.0</td>\n",
       "      <td>5.0</td>\n",
       "      <td>1.0</td>\n",
       "      <td>5.0</td>\n",
       "      <td>0.0</td>\n",
       "      <td>75.0</td>\n",
       "    </tr>\n",
       "  </tbody>\n",
       "</table>\n",
       "</div>"
      ],
      "text/plain": [
       "  school sex  age address famsize Pstatus  Medu  Fedu      Mjob     Fjob  \\\n",
       "0     GP   F   18       U     NaN       A   4.0   4.0   at_home  teacher   \n",
       "1     GP   F   17       U     GT3     NaN   1.0   1.0   at_home    other   \n",
       "2     GP   F   15       U     LE3       T   1.0   1.0   at_home    other   \n",
       "3     GP   F   15       U     GT3       T   4.0   2.0    health      NaN   \n",
       "4     GP   F   16       U     GT3       T   3.0   3.0     other    other   \n",
       "5     GP   M   16       U     LE3       T   4.0   3.0  services    other   \n",
       "6     GP   M   16     NaN     LE3       T   2.0   2.0     other    other   \n",
       "7     GP   F   17       U     GT3       A   4.0   4.0     other  teacher   \n",
       "8     GP   M   15       U     LE3       A   3.0   2.0  services    other   \n",
       "9     GP   M   15       U     NaN     NaN   3.0   4.0     other    other   \n",
       "\n",
       "       reason guardian  traveltime  studytime  failures schoolsup famsup paid  \\\n",
       "0      course   mother         2.0        2.0       0.0       yes     no   no   \n",
       "1      course   father         1.0        2.0       0.0        no    yes   no   \n",
       "2       other   mother         1.0        2.0       3.0       yes     no  NaN   \n",
       "3        home   mother         1.0        3.0       0.0        no    yes  yes   \n",
       "4        home   father         1.0        2.0       0.0        no    yes  yes   \n",
       "5  reputation   mother         1.0        2.0       0.0        no    yes  yes   \n",
       "6        home   mother         1.0        2.0       0.0        no     no   no   \n",
       "7        home   mother         2.0        2.0       0.0       yes    yes   no   \n",
       "8        home   mother         1.0        2.0       0.0        no    yes  yes   \n",
       "9        home   mother         1.0        2.0       0.0        no    yes  yes   \n",
       "\n",
       "  activities nursery  studytime_granular higher internet romantic  famrel  \\\n",
       "0         no     yes                -6.0    yes      NaN       no     4.0   \n",
       "1         no      no                -6.0    yes      yes       no     5.0   \n",
       "2         no     yes                -6.0    yes      yes      NaN     4.0   \n",
       "3        yes     yes                -9.0    yes      yes      yes     3.0   \n",
       "4         no     yes                -6.0    yes       no       no     4.0   \n",
       "5        yes     yes                -6.0    yes      yes       no     5.0   \n",
       "6         no     yes                -6.0    yes      yes       no     4.0   \n",
       "7         no     yes                -6.0    yes       no       no     4.0   \n",
       "8         no     yes                -6.0    yes      yes       no     NaN   \n",
       "9        yes     yes                -6.0    yes      yes       no     5.0   \n",
       "\n",
       "   freetime  goout  health  absences  score  \n",
       "0       3.0    4.0     3.0       6.0   30.0  \n",
       "1       3.0    3.0     3.0       4.0   30.0  \n",
       "2       3.0    2.0     3.0      10.0   50.0  \n",
       "3       2.0    2.0     5.0       2.0   75.0  \n",
       "4       3.0    2.0     5.0       4.0   50.0  \n",
       "5       4.0    2.0     5.0      10.0   75.0  \n",
       "6       4.0    4.0     3.0       0.0   55.0  \n",
       "7       1.0    4.0     1.0       6.0   30.0  \n",
       "8       2.0    2.0     1.0       0.0   95.0  \n",
       "9       5.0    1.0     5.0       0.0   75.0  "
      ]
     },
     "metadata": {},
     "output_type": "display_data"
    },
    {
     "name": "stdout",
     "output_type": "stream",
     "text": [
      "<class 'pandas.core.frame.DataFrame'>\n",
      "RangeIndex: 395 entries, 0 to 394\n",
      "Data columns (total 30 columns):\n",
      " #   Column              Non-Null Count  Dtype  \n",
      "---  ------              --------------  -----  \n",
      " 0   school              395 non-null    object \n",
      " 1   sex                 395 non-null    object \n",
      " 2   age                 395 non-null    int64  \n",
      " 3   address             378 non-null    object \n",
      " 4   famsize             368 non-null    object \n",
      " 5   Pstatus             350 non-null    object \n",
      " 6   Medu                392 non-null    float64\n",
      " 7   Fedu                371 non-null    float64\n",
      " 8   Mjob                376 non-null    object \n",
      " 9   Fjob                359 non-null    object \n",
      " 10  reason              378 non-null    object \n",
      " 11  guardian            364 non-null    object \n",
      " 12  traveltime          367 non-null    float64\n",
      " 13  studytime           388 non-null    float64\n",
      " 14  failures            373 non-null    float64\n",
      " 15  schoolsup           386 non-null    object \n",
      " 16  famsup              356 non-null    object \n",
      " 17  paid                355 non-null    object \n",
      " 18  activities          381 non-null    object \n",
      " 19  nursery             379 non-null    object \n",
      " 20  studytime_granular  388 non-null    float64\n",
      " 21  higher              375 non-null    object \n",
      " 22  internet            361 non-null    object \n",
      " 23  romantic            364 non-null    object \n",
      " 24  famrel              368 non-null    float64\n",
      " 25  freetime            384 non-null    float64\n",
      " 26  goout               387 non-null    float64\n",
      " 27  health              380 non-null    float64\n",
      " 28  absences            383 non-null    float64\n",
      " 29  score               389 non-null    float64\n",
      "dtypes: float64(12), int64(1), object(17)\n",
      "memory usage: 92.7+ KB\n"
     ]
    }
   ],
   "source": [
    "display(students.head(10))\n",
    "students.info()"
   ]
  },
  {
   "cell_type": "markdown",
   "id": "classical-consolidation",
   "metadata": {},
   "source": [
    "В датасете 13 числовых и 17 строковых столбцов, 395 строк. \n",
    "\n",
    "Рассмотрим столбцы по отдельности:\n",
    "## 1) school - аббревиатура школы, в которой учится ученик"
   ]
  },
  {
   "cell_type": "code",
   "execution_count": 5,
   "id": "portable-copying",
   "metadata": {},
   "outputs": [
    {
     "data": {
      "text/html": [
       "<div>\n",
       "<style scoped>\n",
       "    .dataframe tbody tr th:only-of-type {\n",
       "        vertical-align: middle;\n",
       "    }\n",
       "\n",
       "    .dataframe tbody tr th {\n",
       "        vertical-align: top;\n",
       "    }\n",
       "\n",
       "    .dataframe thead th {\n",
       "        text-align: right;\n",
       "    }\n",
       "</style>\n",
       "<table border=\"1\" class=\"dataframe\">\n",
       "  <thead>\n",
       "    <tr style=\"text-align: right;\">\n",
       "      <th></th>\n",
       "      <th>school</th>\n",
       "    </tr>\n",
       "  </thead>\n",
       "  <tbody>\n",
       "    <tr>\n",
       "      <th>GP</th>\n",
       "      <td>349</td>\n",
       "    </tr>\n",
       "    <tr>\n",
       "      <th>MS</th>\n",
       "      <td>46</td>\n",
       "    </tr>\n",
       "  </tbody>\n",
       "</table>\n",
       "</div>"
      ],
      "text/plain": [
       "    school\n",
       "GP     349\n",
       "MS      46"
      ]
     },
     "execution_count": 5,
     "metadata": {},
     "output_type": "execute_result"
    }
   ],
   "source": [
    "pd.DataFrame(students.school.value_counts())"
   ]
  },
  {
   "cell_type": "markdown",
   "id": "cutting-african",
   "metadata": {},
   "source": [
    "В данном столбце представлены всего две школы, ошибок и пропусков нет.\n",
    "\n",
    "Следующий столбец:\n",
    "\n",
    "## 2) sex - пол ученика"
   ]
  },
  {
   "cell_type": "code",
   "execution_count": 6,
   "id": "neural-hamburg",
   "metadata": {},
   "outputs": [
    {
     "data": {
      "text/html": [
       "<div>\n",
       "<style scoped>\n",
       "    .dataframe tbody tr th:only-of-type {\n",
       "        vertical-align: middle;\n",
       "    }\n",
       "\n",
       "    .dataframe tbody tr th {\n",
       "        vertical-align: top;\n",
       "    }\n",
       "\n",
       "    .dataframe thead th {\n",
       "        text-align: right;\n",
       "    }\n",
       "</style>\n",
       "<table border=\"1\" class=\"dataframe\">\n",
       "  <thead>\n",
       "    <tr style=\"text-align: right;\">\n",
       "      <th></th>\n",
       "      <th>sex</th>\n",
       "    </tr>\n",
       "  </thead>\n",
       "  <tbody>\n",
       "    <tr>\n",
       "      <th>F</th>\n",
       "      <td>208</td>\n",
       "    </tr>\n",
       "    <tr>\n",
       "      <th>M</th>\n",
       "      <td>187</td>\n",
       "    </tr>\n",
       "  </tbody>\n",
       "</table>\n",
       "</div>"
      ],
      "text/plain": [
       "   sex\n",
       "F  208\n",
       "M  187"
      ]
     },
     "execution_count": 6,
     "metadata": {},
     "output_type": "execute_result"
    }
   ],
   "source": [
    "pd.DataFrame(students.sex.value_counts())"
   ]
  },
  {
   "cell_type": "markdown",
   "id": "amber-advertising",
   "metadata": {},
   "source": [
    "В этом столбце также без ошибок. Девочек немного больше, чем мальчиков\n",
    "\n",
    "## 3) age - возраст ученика"
   ]
  },
  {
   "cell_type": "code",
   "execution_count": 7,
   "id": "republican-psychiatry",
   "metadata": {},
   "outputs": [
    {
     "data": {
      "text/plain": [
       "count    395.000000\n",
       "mean      16.696203\n",
       "std        1.276043\n",
       "min       15.000000\n",
       "25%       16.000000\n",
       "50%       17.000000\n",
       "75%       18.000000\n",
       "max       22.000000\n",
       "Name: age, dtype: float64"
      ]
     },
     "execution_count": 7,
     "metadata": {},
     "output_type": "execute_result"
    },
    {
     "data": {
      "image/png": "[encoded data removed]",
      "text/plain": [
       "<Figure size 432x288 with 1 Axes>"
      ]
     },
     "metadata": {
      "needs_background": "light"
     },
     "output_type": "display_data"
    }
   ],
   "source": [
    "students.age.hist()\n",
    "students.age.describe()"
   ]
  },
  {
   "cell_type": "markdown",
   "id": "original-paint",
   "metadata": {},
   "source": [
    "Возраст учеников от 15 до 22 лет. Основное распределение лежит в диапазоне от 15 до 17.\n",
    "\n",
    "## 4) address - тип адреса ученика"
   ]
  },
  {
   "cell_type": "code",
   "execution_count": 8,
   "id": "academic-landing",
   "metadata": {},
   "outputs": [
    {
     "data": {
      "text/html": [
       "<div>\n",
       "<style scoped>\n",
       "    .dataframe tbody tr th:only-of-type {\n",
       "        vertical-align: middle;\n",
       "    }\n",
       "\n",
       "    .dataframe tbody tr th {\n",
       "        vertical-align: top;\n",
       "    }\n",
       "\n",
       "    .dataframe thead th {\n",
       "        text-align: right;\n",
       "    }\n",
       "</style>\n",
       "<table border=\"1\" class=\"dataframe\">\n",
       "  <thead>\n",
       "    <tr style=\"text-align: right;\">\n",
       "      <th></th>\n",
       "      <th>address</th>\n",
       "    </tr>\n",
       "  </thead>\n",
       "  <tbody>\n",
       "    <tr>\n",
       "      <th>U</th>\n",
       "      <td>295</td>\n",
       "    </tr>\n",
       "    <tr>\n",
       "      <th>R</th>\n",
       "      <td>83</td>\n",
       "    </tr>\n",
       "  </tbody>\n",
       "</table>\n",
       "</div>"
      ],
      "text/plain": [
       "   address\n",
       "U      295\n",
       "R       83"
      ]
     },
     "execution_count": 8,
     "metadata": {},
     "output_type": "execute_result"
    }
   ],
   "source": [
    "pd.DataFrame(students.address.value_counts())"
   ]
  },
  {
   "cell_type": "markdown",
   "id": "falling-cattle",
   "metadata": {},
   "source": [
    "Большая часть учеников проживают в городе. В столбце присутствуют пропуски. Заполним их наиболее вероятным значением \"U\":"
   ]
  },
  {
   "cell_type": "code",
   "execution_count": 9,
   "id": "blond-cornwall",
   "metadata": {},
   "outputs": [],
   "source": [
    "students.address = students.address.fillna('U')    "
   ]
  },
  {
   "cell_type": "markdown",
   "id": "upset-squad",
   "metadata": {},
   "source": [
    "## 5) famsize - размер семьи"
   ]
  },
  {
   "cell_type": "code",
   "execution_count": 10,
   "id": "remarkable-session",
   "metadata": {},
   "outputs": [
    {
     "data": {
      "text/html": [
       "<div>\n",
       "<style scoped>\n",
       "    .dataframe tbody tr th:only-of-type {\n",
       "        vertical-align: middle;\n",
       "    }\n",
       "\n",
       "    .dataframe tbody tr th {\n",
       "        vertical-align: top;\n",
       "    }\n",
       "\n",
       "    .dataframe thead th {\n",
       "        text-align: right;\n",
       "    }\n",
       "</style>\n",
       "<table border=\"1\" class=\"dataframe\">\n",
       "  <thead>\n",
       "    <tr style=\"text-align: right;\">\n",
       "      <th></th>\n",
       "      <th>famsize</th>\n",
       "    </tr>\n",
       "  </thead>\n",
       "  <tbody>\n",
       "    <tr>\n",
       "      <th>GT3</th>\n",
       "      <td>261</td>\n",
       "    </tr>\n",
       "    <tr>\n",
       "      <th>LE3</th>\n",
       "      <td>107</td>\n",
       "    </tr>\n",
       "  </tbody>\n",
       "</table>\n",
       "</div>"
      ],
      "text/plain": [
       "     famsize\n",
       "GT3      261\n",
       "LE3      107"
      ]
     },
     "execution_count": 10,
     "metadata": {},
     "output_type": "execute_result"
    }
   ],
   "source": [
    "pd.DataFrame(students.famsize.value_counts())"
   ]
  },
  {
   "cell_type": "code",
   "execution_count": 11,
   "id": "flush-disposition",
   "metadata": {},
   "outputs": [],
   "source": [
    "students.famsize.fillna('GT3', inplace = True)"
   ]
  },
  {
   "cell_type": "markdown",
   "id": "announced-constant",
   "metadata": {},
   "source": [
    "Пропуски заполнены наиболее вероятным значением 'GT3'"
   ]
  },
  {
   "cell_type": "markdown",
   "id": "stunning-roommate",
   "metadata": {},
   "source": [
    "Размер семьи у большей части учеников больше 3 \n",
    "\n",
    "## 6) Pstatus - статус совместного проживания родителей"
   ]
  },
  {
   "cell_type": "code",
   "execution_count": 12,
   "id": "pending-postcard",
   "metadata": {},
   "outputs": [
    {
     "data": {
      "text/html": [
       "<div>\n",
       "<style scoped>\n",
       "    .dataframe tbody tr th:only-of-type {\n",
       "        vertical-align: middle;\n",
       "    }\n",
       "\n",
       "    .dataframe tbody tr th {\n",
       "        vertical-align: top;\n",
       "    }\n",
       "\n",
       "    .dataframe thead th {\n",
       "        text-align: right;\n",
       "    }\n",
       "</style>\n",
       "<table border=\"1\" class=\"dataframe\">\n",
       "  <thead>\n",
       "    <tr style=\"text-align: right;\">\n",
       "      <th></th>\n",
       "      <th>Pstatus</th>\n",
       "    </tr>\n",
       "  </thead>\n",
       "  <tbody>\n",
       "    <tr>\n",
       "      <th>T</th>\n",
       "      <td>314</td>\n",
       "    </tr>\n",
       "    <tr>\n",
       "      <th>A</th>\n",
       "      <td>36</td>\n",
       "    </tr>\n",
       "  </tbody>\n",
       "</table>\n",
       "</div>"
      ],
      "text/plain": [
       "   Pstatus\n",
       "T      314\n",
       "A       36"
      ]
     },
     "execution_count": 12,
     "metadata": {},
     "output_type": "execute_result"
    }
   ],
   "source": [
    "pd.DataFrame(students.Pstatus.value_counts())"
   ]
  },
  {
   "cell_type": "code",
   "execution_count": 13,
   "id": "informational-exclusion",
   "metadata": {},
   "outputs": [],
   "source": [
    "students.Pstatus.fillna('T', inplace = True) #заполняем пропуски"
   ]
  },
  {
   "cell_type": "markdown",
   "id": "hybrid-straight",
   "metadata": {},
   "source": [
    "У большинства учеников родители проживают совместно. \n",
    "\n",
    "## 7) Medu - образование матери"
   ]
  },
  {
   "cell_type": "code",
   "execution_count": 14,
   "id": "fantastic-persian",
   "metadata": {},
   "outputs": [
    {
     "data": {
      "text/plain": [
       "count    392.000000\n",
       "mean       2.750000\n",
       "std        1.098127\n",
       "min        0.000000\n",
       "25%        2.000000\n",
       "50%        3.000000\n",
       "75%        4.000000\n",
       "max        4.000000\n",
       "Name: Medu, dtype: float64"
      ]
     },
     "execution_count": 14,
     "metadata": {},
     "output_type": "execute_result"
    },
    {
     "data": {
      "image/png": "[encoded data removed]",
      "text/plain": [
       "<Figure size 432x288 with 1 Axes>"
      ]
     },
     "metadata": {
      "needs_background": "light"
     },
     "output_type": "display_data"
    }
   ],
   "source": [
    "students.Medu.hist()\n",
    "students.Medu.describe()"
   ]
  },
  {
   "cell_type": "code",
   "execution_count": 15,
   "id": "confirmed-promise",
   "metadata": {},
   "outputs": [],
   "source": [
    "students.Medu.fillna(students.Medu.median(), inplace = True)"
   ]
  },
  {
   "cell_type": "markdown",
   "id": "sustainable-liverpool",
   "metadata": {},
   "source": [
    "В данном столбце выбросов нет, пропуски заполнены средним значением(медианой)."
   ]
  },
  {
   "cell_type": "markdown",
   "id": "regular-helicopter",
   "metadata": {},
   "source": [
    "## 8) Fedu - образование отца"
   ]
  },
  {
   "cell_type": "code",
   "execution_count": 16,
   "id": "bridal-wales",
   "metadata": {},
   "outputs": [
    {
     "data": {
      "text/plain": [
       "count    371.000000\n",
       "mean       2.614555\n",
       "std        2.228732\n",
       "min        0.000000\n",
       "25%        2.000000\n",
       "50%        2.000000\n",
       "75%        3.000000\n",
       "max       40.000000\n",
       "Name: Fedu, dtype: float64"
      ]
     },
     "execution_count": 16,
     "metadata": {},
     "output_type": "execute_result"
    },
    {
     "data": {
      "image/png": "[encoded data removed]",
      "text/plain": [
       "<Figure size 432x288 with 1 Axes>"
      ]
     },
     "metadata": {
      "needs_background": "light"
     },
     "output_type": "display_data"
    }
   ],
   "source": [
    "students.Fedu.hist()\n",
    "students.Fedu.describe()"
   ]
  },
  {
   "cell_type": "markdown",
   "id": "theoretical-grass",
   "metadata": {},
   "source": [
    "В этом столбце есть выбросы и пропуски. Пропуски заполним средним значением(медианой). Выброс удалим, зная параметры распределения (значения распределены от 0 до 4)"
   ]
  },
  {
   "cell_type": "code",
   "execution_count": 17,
   "id": "front-cooperation",
   "metadata": {},
   "outputs": [],
   "source": [
    "students.Fedu.fillna(students.Fedu.median(), inplace = True)\n",
    "\n",
    "students = students.loc[students.Fedu <= 4.0]"
   ]
  },
  {
   "cell_type": "markdown",
   "id": "dedicated-queensland",
   "metadata": {},
   "source": [
    "## 9) Mjob - работа матери"
   ]
  },
  {
   "cell_type": "code",
   "execution_count": 18,
   "id": "little-weather",
   "metadata": {},
   "outputs": [
    {
     "data": {
      "text/plain": [
       "other       133\n",
       "services     97\n",
       "at_home      58\n",
       "teacher      55\n",
       "health       32\n",
       "Name: Mjob, dtype: int64"
      ]
     },
     "execution_count": 18,
     "metadata": {},
     "output_type": "execute_result"
    }
   ],
   "source": [
    "students.Mjob.value_counts()"
   ]
  },
  {
   "cell_type": "code",
   "execution_count": 19,
   "id": "fourth-coral",
   "metadata": {},
   "outputs": [
    {
     "data": {
      "text/plain": [
       "count       375\n",
       "unique        5\n",
       "top       other\n",
       "freq        133\n",
       "Name: Mjob, dtype: object"
      ]
     },
     "execution_count": 19,
     "metadata": {},
     "output_type": "execute_result"
    },
    {
     "data": {
      "image/png": "[encoded data removed]",
      "text/plain": [
       "<Figure size 432x288 with 1 Axes>"
      ]
     },
     "metadata": {
      "needs_background": "light"
     },
     "output_type": "display_data"
    }
   ],
   "source": [
    "students.Mjob.hist() \n",
    "students.Mjob.describe()"
   ]
  },
  {
   "cell_type": "code",
   "execution_count": 20,
   "id": "personal-isaac",
   "metadata": {},
   "outputs": [],
   "source": [
    "students.Mjob.fillna('other', inplace = True)"
   ]
  },
  {
   "cell_type": "markdown",
   "id": "chinese-tunisia",
   "metadata": {},
   "source": [
    "В столбце 5 значений, пропуски заполнены наиболее вероятным значением."
   ]
  },
  {
   "cell_type": "markdown",
   "id": "varied-dominican",
   "metadata": {},
   "source": [
    "## 10) Fjob - работа отца"
   ]
  },
  {
   "cell_type": "code",
   "execution_count": 21,
   "id": "worst-karen",
   "metadata": {},
   "outputs": [
    {
     "data": {
      "text/plain": [
       "other       196\n",
       "services    102\n",
       "teacher      29\n",
       "at_home      16\n",
       "health       15\n",
       "Name: Fjob, dtype: int64"
      ]
     },
     "execution_count": 21,
     "metadata": {},
     "output_type": "execute_result"
    }
   ],
   "source": [
    "students.Fjob.value_counts()"
   ]
  },
  {
   "cell_type": "code",
   "execution_count": 22,
   "id": "twelve-theology",
   "metadata": {},
   "outputs": [
    {
     "data": {
      "text/plain": [
       "count       358\n",
       "unique        5\n",
       "top       other\n",
       "freq        196\n",
       "Name: Fjob, dtype: object"
      ]
     },
     "execution_count": 22,
     "metadata": {},
     "output_type": "execute_result"
    },
    {
     "data": {
      "image/png": "[encoded data removed]",
      "text/plain": [
       "<Figure size 432x288 with 1 Axes>"
      ]
     },
     "metadata": {
      "needs_background": "light"
     },
     "output_type": "display_data"
    }
   ],
   "source": [
    "students.Fjob.hist() \n",
    "students.Fjob.describe()"
   ]
  },
  {
   "cell_type": "code",
   "execution_count": 23,
   "id": "amended-summary",
   "metadata": {},
   "outputs": [],
   "source": [
    "students.Fjob.fillna('other', inplace = True)"
   ]
  },
  {
   "cell_type": "markdown",
   "id": "eleven-allocation",
   "metadata": {},
   "source": [
    "Также 5 значений, пропуски заполнены наиболее вероятным значением 'other'"
   ]
  },
  {
   "cell_type": "markdown",
   "id": "advised-lincoln",
   "metadata": {},
   "source": [
    "## 11) reason - причина выбора школы "
   ]
  },
  {
   "cell_type": "code",
   "execution_count": 24,
   "id": "acoustic-promotion",
   "metadata": {},
   "outputs": [
    {
     "data": {
      "text/html": [
       "<div>\n",
       "<style scoped>\n",
       "    .dataframe tbody tr th:only-of-type {\n",
       "        vertical-align: middle;\n",
       "    }\n",
       "\n",
       "    .dataframe tbody tr th {\n",
       "        vertical-align: top;\n",
       "    }\n",
       "\n",
       "    .dataframe thead th {\n",
       "        text-align: right;\n",
       "    }\n",
       "</style>\n",
       "<table border=\"1\" class=\"dataframe\">\n",
       "  <thead>\n",
       "    <tr style=\"text-align: right;\">\n",
       "      <th></th>\n",
       "      <th>reason</th>\n",
       "    </tr>\n",
       "  </thead>\n",
       "  <tbody>\n",
       "    <tr>\n",
       "      <th>course</th>\n",
       "      <td>137</td>\n",
       "    </tr>\n",
       "    <tr>\n",
       "      <th>home</th>\n",
       "      <td>104</td>\n",
       "    </tr>\n",
       "    <tr>\n",
       "      <th>reputation</th>\n",
       "      <td>102</td>\n",
       "    </tr>\n",
       "    <tr>\n",
       "      <th>other</th>\n",
       "      <td>34</td>\n",
       "    </tr>\n",
       "  </tbody>\n",
       "</table>\n",
       "</div>"
      ],
      "text/plain": [
       "            reason\n",
       "course         137\n",
       "home           104\n",
       "reputation     102\n",
       "other           34"
      ]
     },
     "execution_count": 24,
     "metadata": {},
     "output_type": "execute_result"
    }
   ],
   "source": [
    "pd.DataFrame(students.reason.value_counts())"
   ]
  },
  {
   "cell_type": "code",
   "execution_count": 25,
   "id": "arctic-scene",
   "metadata": {},
   "outputs": [],
   "source": [
    "students.reason.fillna('course', inplace = True)"
   ]
  },
  {
   "cell_type": "code",
   "execution_count": 26,
   "id": "grand-fusion",
   "metadata": {},
   "outputs": [
    {
     "data": {
      "text/plain": [
       "<AxesSubplot:>"
      ]
     },
     "execution_count": 26,
     "metadata": {},
     "output_type": "execute_result"
    },
    {
     "data": {
      "image/png": "[encoded data removed]",
      "text/plain": [
       "<Figure size 432x288 with 1 Axes>"
      ]
     },
     "metadata": {
      "needs_background": "light"
     },
     "output_type": "display_data"
    }
   ],
   "source": [
    "students.reason.hist() #гистограмма после заполнения пропусков"
   ]
  },
  {
   "cell_type": "markdown",
   "id": "earned-section",
   "metadata": {},
   "source": [
    "в столбце 4 значения, пропуски заполнены наиболее вероятным 'course'"
   ]
  },
  {
   "cell_type": "markdown",
   "id": "serious-spouse",
   "metadata": {},
   "source": [
    "## 12) guardian - опекун"
   ]
  },
  {
   "cell_type": "code",
   "execution_count": 27,
   "id": "handmade-beads",
   "metadata": {},
   "outputs": [
    {
     "data": {
      "text/html": [
       "<div>\n",
       "<style scoped>\n",
       "    .dataframe tbody tr th:only-of-type {\n",
       "        vertical-align: middle;\n",
       "    }\n",
       "\n",
       "    .dataframe tbody tr th {\n",
       "        vertical-align: top;\n",
       "    }\n",
       "\n",
       "    .dataframe thead th {\n",
       "        text-align: right;\n",
       "    }\n",
       "</style>\n",
       "<table border=\"1\" class=\"dataframe\">\n",
       "  <thead>\n",
       "    <tr style=\"text-align: right;\">\n",
       "      <th></th>\n",
       "      <th>guardian</th>\n",
       "    </tr>\n",
       "  </thead>\n",
       "  <tbody>\n",
       "    <tr>\n",
       "      <th>mother</th>\n",
       "      <td>250</td>\n",
       "    </tr>\n",
       "    <tr>\n",
       "      <th>father</th>\n",
       "      <td>85</td>\n",
       "    </tr>\n",
       "    <tr>\n",
       "      <th>other</th>\n",
       "      <td>28</td>\n",
       "    </tr>\n",
       "  </tbody>\n",
       "</table>\n",
       "</div>"
      ],
      "text/plain": [
       "        guardian\n",
       "mother       250\n",
       "father        85\n",
       "other         28"
      ]
     },
     "execution_count": 27,
     "metadata": {},
     "output_type": "execute_result"
    }
   ],
   "source": [
    "pd.DataFrame(students.guardian.value_counts())"
   ]
  },
  {
   "cell_type": "code",
   "execution_count": 28,
   "id": "cardiac-sculpture",
   "metadata": {},
   "outputs": [],
   "source": [
    "students.guardian.fillna('mother', inplace = True)"
   ]
  },
  {
   "cell_type": "markdown",
   "id": "signed-matthew",
   "metadata": {},
   "source": [
    "В столбце 3 значения, пропуски заполнены наиболее вероятным значением"
   ]
  },
  {
   "cell_type": "markdown",
   "id": "australian-title",
   "metadata": {},
   "source": [
    "## 13) traveltime - время в пути до школы"
   ]
  },
  {
   "cell_type": "code",
   "execution_count": 29,
   "id": "abroad-qatar",
   "metadata": {},
   "outputs": [
    {
     "data": {
      "text/plain": [
       "count    366.000000\n",
       "mean       1.434426\n",
       "std        0.690297\n",
       "min        1.000000\n",
       "25%        1.000000\n",
       "50%        1.000000\n",
       "75%        2.000000\n",
       "max        4.000000\n",
       "Name: traveltime, dtype: float64"
      ]
     },
     "execution_count": 29,
     "metadata": {},
     "output_type": "execute_result"
    },
    {
     "data": {
      "image/png": "[encoded data removed]",
      "text/plain": [
       "<Figure size 432x288 with 1 Axes>"
      ]
     },
     "metadata": {
      "needs_background": "light"
     },
     "output_type": "display_data"
    }
   ],
   "source": [
    "students.traveltime.hist() \n",
    "students.traveltime.describe()"
   ]
  },
  {
   "cell_type": "code",
   "execution_count": 30,
   "id": "pediatric-ghana",
   "metadata": {},
   "outputs": [],
   "source": [
    "students.traveltime.fillna(students.traveltime.median(), inplace = True)"
   ]
  },
  {
   "cell_type": "markdown",
   "id": "human-advisory",
   "metadata": {},
   "source": [
    "Очевидно, что большая часть учеников тратят на дорогу не более 15 минут. В столбце выбросов нет, пустые значения заполнены средним (медианой)."
   ]
  },
  {
   "cell_type": "markdown",
   "id": "automated-peter",
   "metadata": {},
   "source": [
    "## 14) studytime - время на учёбу помимо школы в неделю"
   ]
  },
  {
   "cell_type": "code",
   "execution_count": 31,
   "id": "unusual-clinton",
   "metadata": {},
   "outputs": [
    {
     "data": {
      "text/plain": [
       "count    387.000000\n",
       "mean       2.036176\n",
       "std        0.841744\n",
       "min        1.000000\n",
       "25%        1.000000\n",
       "50%        2.000000\n",
       "75%        2.000000\n",
       "max        4.000000\n",
       "Name: studytime, dtype: float64"
      ]
     },
     "execution_count": 31,
     "metadata": {},
     "output_type": "execute_result"
    },
    {
     "data": {
      "image/png": "[encoded data removed]",
      "text/plain": [
       "<Figure size 432x288 with 1 Axes>"
      ]
     },
     "metadata": {
      "needs_background": "light"
     },
     "output_type": "display_data"
    }
   ],
   "source": [
    "students.studytime.hist()\n",
    "students.studytime.describe()"
   ]
  },
  {
   "cell_type": "code",
   "execution_count": 32,
   "id": "bigger-communication",
   "metadata": {},
   "outputs": [],
   "source": [
    "students.studytime.fillna(students.studytime.median(), inplace = True)"
   ]
  },
  {
   "cell_type": "markdown",
   "id": "incorrect-emphasis",
   "metadata": {},
   "source": [
    "В данном столбце выбросов нет, пропуски заполнены средним значением (медианой).\n",
    "Похоже, что большинство учеников тратят на внеучебные занятия не больше 5 часов в неделю"
   ]
  },
  {
   "cell_type": "markdown",
   "id": "middle-petroleum",
   "metadata": {},
   "source": [
    "## 15) failures - количество внеучебных неудач"
   ]
  },
  {
   "cell_type": "code",
   "execution_count": 33,
   "id": "digital-utilization",
   "metadata": {},
   "outputs": [
    {
     "data": {
      "text/plain": [
       "count    372.000000\n",
       "mean       0.338710\n",
       "std        0.743929\n",
       "min        0.000000\n",
       "25%        0.000000\n",
       "50%        0.000000\n",
       "75%        0.000000\n",
       "max        3.000000\n",
       "Name: failures, dtype: float64"
      ]
     },
     "execution_count": 33,
     "metadata": {},
     "output_type": "execute_result"
    },
    {
     "data": {
      "image/png": "[encoded data removed]",
      "text/plain": [
       "<Figure size 432x288 with 1 Axes>"
      ]
     },
     "metadata": {
      "needs_background": "light"
     },
     "output_type": "display_data"
    }
   ],
   "source": [
    "students.failures.hist()\n",
    "students.failures.describe()"
   ]
  },
  {
   "cell_type": "code",
   "execution_count": 34,
   "id": "compatible-signal",
   "metadata": {},
   "outputs": [],
   "source": [
    "students.failures.fillna(students.failures.median(), inplace = True)"
   ]
  },
  {
   "cell_type": "markdown",
   "id": "educational-moore",
   "metadata": {},
   "source": [
    "Выбросов нет, пропуски заполнены средним значением (медианой). У большинства учеников отсутствуют неудачи."
   ]
  },
  {
   "cell_type": "markdown",
   "id": "unable-infection",
   "metadata": {},
   "source": [
    "## 16) schoolsup - дополнительная образовательная поддержка"
   ]
  },
  {
   "cell_type": "code",
   "execution_count": 35,
   "id": "armed-least",
   "metadata": {},
   "outputs": [
    {
     "data": {
      "text/html": [
       "<div>\n",
       "<style scoped>\n",
       "    .dataframe tbody tr th:only-of-type {\n",
       "        vertical-align: middle;\n",
       "    }\n",
       "\n",
       "    .dataframe tbody tr th {\n",
       "        vertical-align: top;\n",
       "    }\n",
       "\n",
       "    .dataframe thead th {\n",
       "        text-align: right;\n",
       "    }\n",
       "</style>\n",
       "<table border=\"1\" class=\"dataframe\">\n",
       "  <thead>\n",
       "    <tr style=\"text-align: right;\">\n",
       "      <th></th>\n",
       "      <th>schoolsup</th>\n",
       "    </tr>\n",
       "  </thead>\n",
       "  <tbody>\n",
       "    <tr>\n",
       "      <th>no</th>\n",
       "      <td>334</td>\n",
       "    </tr>\n",
       "    <tr>\n",
       "      <th>yes</th>\n",
       "      <td>51</td>\n",
       "    </tr>\n",
       "  </tbody>\n",
       "</table>\n",
       "</div>"
      ],
      "text/plain": [
       "     schoolsup\n",
       "no         334\n",
       "yes         51"
      ]
     },
     "execution_count": 35,
     "metadata": {},
     "output_type": "execute_result"
    }
   ],
   "source": [
    "pd.DataFrame(students.schoolsup.value_counts())"
   ]
  },
  {
   "cell_type": "code",
   "execution_count": 36,
   "id": "discrete-expert",
   "metadata": {},
   "outputs": [],
   "source": [
    "students.schoolsup = students.schoolsup.apply(transform_column)\n",
    "#преобразуем колонку"
   ]
  },
  {
   "cell_type": "code",
   "execution_count": 37,
   "id": "focused-beatles",
   "metadata": {},
   "outputs": [
    {
     "data": {
      "text/plain": [
       "count    385.000000\n",
       "mean       0.132468\n",
       "std        0.339439\n",
       "min        0.000000\n",
       "25%        0.000000\n",
       "50%        0.000000\n",
       "75%        0.000000\n",
       "max        1.000000\n",
       "Name: schoolsup, dtype: float64"
      ]
     },
     "execution_count": 37,
     "metadata": {},
     "output_type": "execute_result"
    },
    {
     "data": {
      "image/png": "[encoded data removed]",
      "text/plain": [
       "<Figure size 432x288 with 1 Axes>"
      ]
     },
     "metadata": {
      "needs_background": "light"
     },
     "output_type": "display_data"
    }
   ],
   "source": [
    "students.schoolsup.hist()\n",
    "students.schoolsup.describe()"
   ]
  },
  {
   "cell_type": "code",
   "execution_count": 38,
   "id": "cognitive-device",
   "metadata": {},
   "outputs": [],
   "source": [
    "students.schoolsup.fillna(students.schoolsup.median(), inplace = True)"
   ]
  },
  {
   "cell_type": "markdown",
   "id": "small-material",
   "metadata": {},
   "source": [
    "Очевидно, что большинство учеников не получали дополнительную образовательную поддержку"
   ]
  },
  {
   "cell_type": "markdown",
   "id": "ordinary-directive",
   "metadata": {},
   "source": [
    "## 17) famsup - семейная образовательная поддержка"
   ]
  },
  {
   "cell_type": "code",
   "execution_count": 39,
   "id": "suspected-diving",
   "metadata": {},
   "outputs": [],
   "source": [
    "students.famsup = students.famsup.apply(transform_column)\n",
    "#преобразуем колонку"
   ]
  },
  {
   "cell_type": "code",
   "execution_count": 40,
   "id": "written-uncertainty",
   "metadata": {},
   "outputs": [
    {
     "data": {
      "text/plain": [
       "count    355.000000\n",
       "mean       0.614085\n",
       "std        0.487498\n",
       "min        0.000000\n",
       "25%        0.000000\n",
       "50%        1.000000\n",
       "75%        1.000000\n",
       "max        1.000000\n",
       "Name: famsup, dtype: float64"
      ]
     },
     "execution_count": 40,
     "metadata": {},
     "output_type": "execute_result"
    },
    {
     "data": {
      "image/png": "[encoded data removed]",
      "text/plain": [
       "<Figure size 432x288 with 1 Axes>"
      ]
     },
     "metadata": {
      "needs_background": "light"
     },
     "output_type": "display_data"
    }
   ],
   "source": [
    "students.famsup.hist()\n",
    "students.famsup.describe()"
   ]
  },
  {
   "cell_type": "markdown",
   "id": "confirmed-mixer",
   "metadata": {},
   "source": [
    "В столбце выбросов нет, пропуски заполнены средним значением (медианой)"
   ]
  },
  {
   "cell_type": "code",
   "execution_count": 41,
   "id": "homeless-counter",
   "metadata": {},
   "outputs": [],
   "source": [
    "students.famsup.fillna(students.famsup.median(), inplace = True)"
   ]
  },
  {
   "cell_type": "markdown",
   "id": "speaking-librarian",
   "metadata": {},
   "source": [
    "Но получали семейную поддержку"
   ]
  },
  {
   "cell_type": "markdown",
   "id": "complex-score",
   "metadata": {},
   "source": [
    "## 18) paid - дополнительные платные занятия по математике"
   ]
  },
  {
   "cell_type": "code",
   "execution_count": 42,
   "id": "handmade-upper",
   "metadata": {},
   "outputs": [],
   "source": [
    "students.paid = students.paid.apply(transform_column)\n",
    "#преобразуем колонку"
   ]
  },
  {
   "cell_type": "code",
   "execution_count": 43,
   "id": "elder-beast",
   "metadata": {},
   "outputs": [
    {
     "data": {
      "text/plain": [
       "count    354.000000\n",
       "mean       0.437853\n",
       "std        0.496825\n",
       "min        0.000000\n",
       "25%        0.000000\n",
       "50%        0.000000\n",
       "75%        1.000000\n",
       "max        1.000000\n",
       "Name: paid, dtype: float64"
      ]
     },
     "execution_count": 43,
     "metadata": {},
     "output_type": "execute_result"
    },
    {
     "data": {
      "image/png": "[encoded data removed]",
      "text/plain": [
       "<Figure size 432x288 with 1 Axes>"
      ]
     },
     "metadata": {
      "needs_background": "light"
     },
     "output_type": "display_data"
    }
   ],
   "source": [
    "students.paid.hist()\n",
    "students.paid.describe()"
   ]
  },
  {
   "cell_type": "code",
   "execution_count": 44,
   "id": "working-tablet",
   "metadata": {},
   "outputs": [],
   "source": [
    "#заполняем пропуски \n",
    "students.paid.fillna(students.paid.median(), inplace =True)"
   ]
  },
  {
   "cell_type": "markdown",
   "id": "different-story",
   "metadata": {},
   "source": [
    "Почти половина учеников брали дополнительные платные занятия по математике."
   ]
  },
  {
   "cell_type": "markdown",
   "id": "indie-castle",
   "metadata": {},
   "source": [
    "## 19) activities - дополнительные внеучебные занятия"
   ]
  },
  {
   "cell_type": "code",
   "execution_count": 45,
   "id": "pediatric-sacramento",
   "metadata": {},
   "outputs": [],
   "source": [
    "students.activities = students.activities.apply(transform_column)\n",
    "#преобразуем колонку"
   ]
  },
  {
   "cell_type": "code",
   "execution_count": 46,
   "id": "expired-atlanta",
   "metadata": {},
   "outputs": [
    {
     "data": {
      "text/plain": [
       "count    380.000000\n",
       "mean       0.510526\n",
       "std        0.500548\n",
       "min        0.000000\n",
       "25%        0.000000\n",
       "50%        1.000000\n",
       "75%        1.000000\n",
       "max        1.000000\n",
       "Name: activities, dtype: float64"
      ]
     },
     "execution_count": 46,
     "metadata": {},
     "output_type": "execute_result"
    },
    {
     "data": {
      "image/png": "[encoded data removed]",
      "text/plain": [
       "<Figure size 432x288 with 1 Axes>"
      ]
     },
     "metadata": {
      "needs_background": "light"
     },
     "output_type": "display_data"
    }
   ],
   "source": [
    "students.activities.hist()\n",
    "students.activities.describe()"
   ]
  },
  {
   "cell_type": "code",
   "execution_count": 47,
   "id": "incoming-roberts",
   "metadata": {},
   "outputs": [],
   "source": [
    "#заполняем пропуски\n",
    "students.activities.fillna(students.activities.median(), inplace = True)"
   ]
  },
  {
   "cell_type": "markdown",
   "id": "entire-danger",
   "metadata": {},
   "source": [
    "Усеников, получавших дополнительные внеучебные занятия, немного больше."
   ]
  },
  {
   "cell_type": "markdown",
   "id": "radical-formula",
   "metadata": {},
   "source": [
    "## 20) nursery - посещал ли детский сад"
   ]
  },
  {
   "cell_type": "code",
   "execution_count": 48,
   "id": "regular-sender",
   "metadata": {},
   "outputs": [],
   "source": [
    "students.nursery = students.nursery.apply(transform_column)"
   ]
  },
  {
   "cell_type": "code",
   "execution_count": 49,
   "id": "concrete-tanzania",
   "metadata": {},
   "outputs": [
    {
     "data": {
      "text/plain": [
       "count    378.000000\n",
       "mean       0.791005\n",
       "std        0.407129\n",
       "min        0.000000\n",
       "25%        1.000000\n",
       "50%        1.000000\n",
       "75%        1.000000\n",
       "max        1.000000\n",
       "Name: nursery, dtype: float64"
      ]
     },
     "execution_count": 49,
     "metadata": {},
     "output_type": "execute_result"
    },
    {
     "data": {
      "image/png": "[encoded data removed]",
      "text/plain": [
       "<Figure size 432x288 with 1 Axes>"
      ]
     },
     "metadata": {
      "needs_background": "light"
     },
     "output_type": "display_data"
    }
   ],
   "source": [
    "students.nursery.hist()\n",
    "students.nursery.describe()"
   ]
  },
  {
   "cell_type": "code",
   "execution_count": 50,
   "id": "unusual-steam",
   "metadata": {},
   "outputs": [],
   "source": [
    "#заполняем пропуски \n",
    "students.nursery.fillna(students.nursery.median(), inplace = True)"
   ]
  },
  {
   "cell_type": "markdown",
   "id": "military-intention",
   "metadata": {},
   "source": [
    "Большинство ходили в детский сад"
   ]
  },
  {
   "cell_type": "markdown",
   "id": "scheduled-impact",
   "metadata": {},
   "source": [
    "## 21) higher - хочет ли получить высшее образование"
   ]
  },
  {
   "cell_type": "code",
   "execution_count": 51,
   "id": "spiritual-jacob",
   "metadata": {},
   "outputs": [],
   "source": [
    "students.higher = students.higher.apply(transform_column)"
   ]
  },
  {
   "cell_type": "code",
   "execution_count": 52,
   "id": "together-management",
   "metadata": {},
   "outputs": [
    {
     "data": {
      "text/plain": [
       "count    374.000000\n",
       "mean       0.949198\n",
       "std        0.219888\n",
       "min        0.000000\n",
       "25%        1.000000\n",
       "50%        1.000000\n",
       "75%        1.000000\n",
       "max        1.000000\n",
       "Name: higher, dtype: float64"
      ]
     },
     "execution_count": 52,
     "metadata": {},
     "output_type": "execute_result"
    },
    {
     "data": {
      "image/png": "[encoded data removed]",
      "text/plain": [
       "<Figure size 432x288 with 1 Axes>"
      ]
     },
     "metadata": {
      "needs_background": "light"
     },
     "output_type": "display_data"
    }
   ],
   "source": [
    "students.higher.hist()\n",
    "students.higher.describe()"
   ]
  },
  {
   "cell_type": "code",
   "execution_count": 53,
   "id": "close-projector",
   "metadata": {},
   "outputs": [],
   "source": [
    "#заполняем пропуски\n",
    "students.higher.fillna(students.higher.median(), inplace = True)"
   ]
  },
  {
   "cell_type": "markdown",
   "id": "mediterranean-gates",
   "metadata": {},
   "source": [
    "Большинство хотят получить высшее образование"
   ]
  },
  {
   "cell_type": "markdown",
   "id": "invalid-speaker",
   "metadata": {},
   "source": [
    "## 22) internet - наличие интернета дома"
   ]
  },
  {
   "cell_type": "code",
   "execution_count": 54,
   "id": "alien-transaction",
   "metadata": {},
   "outputs": [],
   "source": [
    "students.internet = students.internet.apply(transform_column)"
   ]
  },
  {
   "cell_type": "code",
   "execution_count": 55,
   "id": "painted-cincinnati",
   "metadata": {},
   "outputs": [
    {
     "data": {
      "text/plain": [
       "count    360.000000\n",
       "mean       0.844444\n",
       "std        0.362938\n",
       "min        0.000000\n",
       "25%        1.000000\n",
       "50%        1.000000\n",
       "75%        1.000000\n",
       "max        1.000000\n",
       "Name: internet, dtype: float64"
      ]
     },
     "execution_count": 55,
     "metadata": {},
     "output_type": "execute_result"
    },
    {
     "data": {
      "image/png": "[encoded data removed]",
      "text/plain": [
       "<Figure size 432x288 with 1 Axes>"
      ]
     },
     "metadata": {
      "needs_background": "light"
     },
     "output_type": "display_data"
    }
   ],
   "source": [
    "students.internet.hist()\n",
    "students.internet.describe()"
   ]
  },
  {
   "cell_type": "code",
   "execution_count": 56,
   "id": "capable-going",
   "metadata": {},
   "outputs": [],
   "source": [
    "#заполняем пропуски\n",
    "students.internet.fillna(students.internet.median(), inplace = True)"
   ]
  },
  {
   "cell_type": "markdown",
   "id": "informed-identifier",
   "metadata": {},
   "source": [
    "У подавляющего большинства учеников дома есть доступ в интернет"
   ]
  },
  {
   "cell_type": "markdown",
   "id": "tamil-passing",
   "metadata": {},
   "source": [
    "## 23) romantic - наличие романтических отношений"
   ]
  },
  {
   "cell_type": "code",
   "execution_count": 57,
   "id": "lightweight-neutral",
   "metadata": {},
   "outputs": [],
   "source": [
    "students.romantic = students.romantic.apply(transform_column)"
   ]
  },
  {
   "cell_type": "code",
   "execution_count": 58,
   "id": "eight-activation",
   "metadata": {},
   "outputs": [
    {
     "data": {
      "text/plain": [
       "count    363.000000\n",
       "mean       0.341598\n",
       "std        0.474900\n",
       "min        0.000000\n",
       "25%        0.000000\n",
       "50%        0.000000\n",
       "75%        1.000000\n",
       "max        1.000000\n",
       "Name: romantic, dtype: float64"
      ]
     },
     "execution_count": 58,
     "metadata": {},
     "output_type": "execute_result"
    },
    {
     "data": {
      "image/png": "[encoded data removed]",
      "text/plain": [
       "<Figure size 432x288 with 1 Axes>"
      ]
     },
     "metadata": {
      "needs_background": "light"
     },
     "output_type": "display_data"
    }
   ],
   "source": [
    "students.romantic.hist()\n",
    "students.romantic.describe()"
   ]
  },
  {
   "cell_type": "code",
   "execution_count": 59,
   "id": "mature-saver",
   "metadata": {},
   "outputs": [],
   "source": [
    "#заполняем пропуски\n",
    "students.romantic.fillna(students.romantic.median(), inplace = True)"
   ]
  },
  {
   "cell_type": "markdown",
   "id": "surprising-cameroon",
   "metadata": {},
   "source": [
    "У большей части отсутствуют романтические отношения"
   ]
  },
  {
   "cell_type": "markdown",
   "id": "defined-diana",
   "metadata": {},
   "source": [
    "## 24) famrel - семейные отношения"
   ]
  },
  {
   "cell_type": "code",
   "execution_count": 60,
   "id": "signal-product",
   "metadata": {},
   "outputs": [
    {
     "data": {
      "text/plain": [
       "count    367.000000\n",
       "mean       3.934605\n",
       "std        0.926876\n",
       "min       -1.000000\n",
       "25%        4.000000\n",
       "50%        4.000000\n",
       "75%        5.000000\n",
       "max        5.000000\n",
       "Name: famrel, dtype: float64"
      ]
     },
     "execution_count": 60,
     "metadata": {},
     "output_type": "execute_result"
    },
    {
     "data": {
      "image/png": "[encoded data removed]",
      "text/plain": [
       "<Figure size 432x288 with 1 Axes>"
      ]
     },
     "metadata": {
      "needs_background": "light"
     },
     "output_type": "display_data"
    }
   ],
   "source": [
    "students.famrel.hist()\n",
    "students.famrel.describe()"
   ]
  },
  {
   "cell_type": "code",
   "execution_count": 61,
   "id": "voluntary-shepherd",
   "metadata": {},
   "outputs": [],
   "source": [
    "students.famrel.fillna(students.famrel.median(), inplace = True)"
   ]
  },
  {
   "cell_type": "code",
   "execution_count": 62,
   "id": "secondary-neighbor",
   "metadata": {},
   "outputs": [],
   "source": [
    "students = students.loc[students.famrel >= 1.0]"
   ]
  },
  {
   "cell_type": "markdown",
   "id": "integrated-sullivan",
   "metadata": {},
   "source": [
    "В этом столбце есть выброс и пропуски. Пропуски заполняем средним значением (медианой), выброс удаляем используя параметры распределения (от 1 до 5)\n",
    "\n",
    "В целом, у учеников хорошие семейные отношения."
   ]
  },
  {
   "cell_type": "markdown",
   "id": "covered-colombia",
   "metadata": {},
   "source": [
    "## 25) freetime - свободное время после школы"
   ]
  },
  {
   "cell_type": "code",
   "execution_count": 63,
   "id": "normal-russia",
   "metadata": {},
   "outputs": [
    {
     "data": {
      "text/plain": [
       "count    382.000000\n",
       "mean       3.238220\n",
       "std        0.992521\n",
       "min        1.000000\n",
       "25%        3.000000\n",
       "50%        3.000000\n",
       "75%        4.000000\n",
       "max        5.000000\n",
       "Name: freetime, dtype: float64"
      ]
     },
     "execution_count": 63,
     "metadata": {},
     "output_type": "execute_result"
    },
    {
     "data": {
      "image/png": "[encoded data removed]",
      "text/plain": [
       "<Figure size 432x288 with 1 Axes>"
      ]
     },
     "metadata": {
      "needs_background": "light"
     },
     "output_type": "display_data"
    }
   ],
   "source": [
    "students.freetime.hist()\n",
    "students.freetime.describe()"
   ]
  },
  {
   "cell_type": "code",
   "execution_count": 64,
   "id": "beginning-raise",
   "metadata": {},
   "outputs": [],
   "source": [
    "students.freetime.fillna(students.freetime.median(), inplace = True)"
   ]
  },
  {
   "cell_type": "markdown",
   "id": "registered-genome",
   "metadata": {},
   "source": [
    "Выбросов нет, пропуски заполнены средним значением (медианой). \n",
    "Очевидно, что у учеников досаточно свободного времени"
   ]
  },
  {
   "cell_type": "markdown",
   "id": "alpha-identity",
   "metadata": {},
   "source": [
    "## 26) goout - проведение времени с друзьями"
   ]
  },
  {
   "cell_type": "code",
   "execution_count": 65,
   "id": "established-commonwealth",
   "metadata": {},
   "outputs": [
    {
     "data": {
      "text/plain": [
       "count    385.000000\n",
       "mean       3.111688\n",
       "std        1.115933\n",
       "min        1.000000\n",
       "25%        2.000000\n",
       "50%        3.000000\n",
       "75%        4.000000\n",
       "max        5.000000\n",
       "Name: goout, dtype: float64"
      ]
     },
     "execution_count": 65,
     "metadata": {},
     "output_type": "execute_result"
    },
    {
     "data": {
      "image/png": "[encoded data removed]",
      "text/plain": [
       "<Figure size 432x288 with 1 Axes>"
      ]
     },
     "metadata": {
      "needs_background": "light"
     },
     "output_type": "display_data"
    }
   ],
   "source": [
    "students.goout.hist()\n",
    "students.goout.describe()"
   ]
  },
  {
   "cell_type": "code",
   "execution_count": 66,
   "id": "military-regression",
   "metadata": {},
   "outputs": [],
   "source": [
    "#заполняем пропуски\n",
    "students.goout.fillna(students.goout.median(), inplace = True)"
   ]
  },
  {
   "cell_type": "markdown",
   "id": "final-recruitment",
   "metadata": {},
   "source": [
    "Без выбросов. Похоже, что часть своего свободного времени ученики проводят с друзьями."
   ]
  },
  {
   "cell_type": "markdown",
   "id": "amateur-murray",
   "metadata": {},
   "source": [
    "## 27) health - текущее состояние здоровья"
   ]
  },
  {
   "cell_type": "code",
   "execution_count": 67,
   "id": "moral-beaver",
   "metadata": {},
   "outputs": [
    {
     "data": {
      "text/plain": [
       "count    378.000000\n",
       "mean       3.526455\n",
       "std        1.397455\n",
       "min        1.000000\n",
       "25%        3.000000\n",
       "50%        4.000000\n",
       "75%        5.000000\n",
       "max        5.000000\n",
       "Name: health, dtype: float64"
      ]
     },
     "execution_count": 67,
     "metadata": {},
     "output_type": "execute_result"
    },
    {
     "data": {
      "image/png": "[encoded data removed]",
      "text/plain": [
       "<Figure size 432x288 with 1 Axes>"
      ]
     },
     "metadata": {
      "needs_background": "light"
     },
     "output_type": "display_data"
    }
   ],
   "source": [
    "students.health.hist()\n",
    "students.health.describe()"
   ]
  },
  {
   "cell_type": "code",
   "execution_count": 68,
   "id": "secure-folder",
   "metadata": {},
   "outputs": [],
   "source": [
    "#заполняем пропуски\n",
    "students.health.fillna(students.health.median(), inplace = True)"
   ]
  },
  {
   "cell_type": "markdown",
   "id": "hispanic-certification",
   "metadata": {},
   "source": [
    "Без выбросов, пропуски заполнены средним значением(медианой). Со здоровьем у большинства учеников всё в порядке"
   ]
  },
  {
   "cell_type": "markdown",
   "id": "crude-laptop",
   "metadata": {},
   "source": [
    "## 28) absences - количество пропущенных занятий"
   ]
  },
  {
   "cell_type": "code",
   "execution_count": 69,
   "id": "cognitive-black",
   "metadata": {},
   "outputs": [
    {
     "data": {
      "text/plain": [
       "count    381.000000\n",
       "mean       7.270341\n",
       "std       23.523737\n",
       "min        0.000000\n",
       "25%        0.000000\n",
       "50%        4.000000\n",
       "75%        8.000000\n",
       "max      385.000000\n",
       "Name: absences, dtype: float64"
      ]
     },
     "execution_count": 69,
     "metadata": {},
     "output_type": "execute_result"
    },
    {
     "data": {
      "image/png": "[encoded data removed]",
      "text/plain": [
       "<Figure size 432x288 with 1 Axes>"
      ]
     },
     "metadata": {
      "needs_background": "light"
     },
     "output_type": "display_data"
    }
   ],
   "source": [
    "students.absences.hist()\n",
    "students.absences.describe()"
   ]
  },
  {
   "cell_type": "code",
   "execution_count": 70,
   "id": "starting-insulation",
   "metadata": {},
   "outputs": [],
   "source": [
    "students.absences.fillna(students.absences.median(), inplace = True)"
   ]
  },
  {
   "cell_type": "markdown",
   "id": "atmospheric-tulsa",
   "metadata": {},
   "source": [
    "В столбце пропуски заполнены средним значением (медианой). Для фильтрации выбросов воспользуемся  формулой интерквартильного расстояния."
   ]
  },
  {
   "cell_type": "code",
   "execution_count": 71,
   "id": "committed-aside",
   "metadata": {},
   "outputs": [
    {
     "data": {
      "text/plain": [
       "<AxesSubplot:>"
      ]
     },
     "execution_count": 71,
     "metadata": {},
     "output_type": "execute_result"
    },
    {
     "data": {
      "image/png": "[encoded data removed]",
      "text/plain": [
       "<Figure size 432x288 with 1 Axes>"
      ]
     },
     "metadata": {
      "needs_background": "light"
     },
     "output_type": "display_data"
    }
   ],
   "source": [
    "#вычисляем межквартильный размах:\n",
    "iqr = students.absences.quantile(0.75) - students.absences.quantile(0.25)\n",
    "\n",
    "#25-й перцентиль:\n",
    "perc25 = students.absences.quantile(0.25)\n",
    "#75-й перцентиль:\n",
    "perc75 = students.absences.quantile(0.75)\n",
    "\n",
    "#верхняя граница выбросов:\n",
    "l = perc75 + 1.5*iqr\n",
    "#нижняя граница выбросов:\n",
    "f = perc25 - 1.5*iqr\n",
    "\n",
    "students.absences.loc[students.absences.between(f, l)].hist()"
   ]
  },
  {
   "cell_type": "code",
   "execution_count": 72,
   "id": "coordinated-respondent",
   "metadata": {},
   "outputs": [
    {
     "data": {
      "text/plain": [
       "<AxesSubplot:>"
      ]
     },
     "execution_count": 72,
     "metadata": {},
     "output_type": "execute_result"
    },
    {
     "data": {
      "image/png": "[encoded data removed]",
      "text/plain": [
       "<Figure size 432x288 with 1 Axes>"
      ]
     },
     "metadata": {
      "needs_background": "light"
     },
     "output_type": "display_data"
    }
   ],
   "source": [
    "students.absences.loc[students.absences < 212.].hist()"
   ]
  },
  {
   "cell_type": "code",
   "execution_count": 73,
   "id": "bizarre-prospect",
   "metadata": {},
   "outputs": [],
   "source": [
    "students = students.loc[students.absences < 212.]"
   ]
  },
  {
   "cell_type": "markdown",
   "id": "attractive-roulette",
   "metadata": {},
   "source": [
    "Если фильтровать выбросы, используя межквартильный размах, мы теряем большое количество данных по ученикам. А они могли пропустить больше 20 занятий, например, по болезни. Потому убирать будем только очевидно экстремальные значения 212 и 385"
   ]
  },
  {
   "cell_type": "markdown",
   "id": "laden-hygiene",
   "metadata": {},
   "source": [
    "## 29) score - баллы по госэкзамену по математике"
   ]
  },
  {
   "cell_type": "code",
   "execution_count": 74,
   "id": "respective-mortality",
   "metadata": {},
   "outputs": [
    {
     "data": {
      "text/plain": [
       "count    385.000000\n",
       "mean      52.207792\n",
       "std       22.962457\n",
       "min        0.000000\n",
       "25%       40.000000\n",
       "50%       55.000000\n",
       "75%       70.000000\n",
       "max      100.000000\n",
       "Name: score, dtype: float64"
      ]
     },
     "execution_count": 74,
     "metadata": {},
     "output_type": "execute_result"
    },
    {
     "data": {
      "image/png": "[encoded data removed]",
      "text/plain": [
       "<Figure size 432x288 with 1 Axes>"
      ]
     },
     "metadata": {
      "needs_background": "light"
     },
     "output_type": "display_data"
    }
   ],
   "source": [
    "students.score.hist()\n",
    "students.score.describe()"
   ]
  },
  {
   "cell_type": "code",
   "execution_count": 75,
   "id": "standing-emission",
   "metadata": {},
   "outputs": [],
   "source": [
    "students.score.fillna(students.score.median(), inplace = True)"
   ]
  },
  {
   "cell_type": "markdown",
   "id": "comic-wallet",
   "metadata": {},
   "source": [
    "В датасете есть ученики, у которых балл за экзамен по математике равен 0. Либо в представленном датасете ошибка, либо ученик не писал экзамен. Потому для дальнейшего анализа будем использовать только ненулевые значения."
   ]
  },
  {
   "cell_type": "code",
   "execution_count": 76,
   "id": "artificial-trail",
   "metadata": {},
   "outputs": [],
   "source": [
    "students = students.loc[students.score > 0.0]"
   ]
  },
  {
   "cell_type": "markdown",
   "id": "satellite-testing",
   "metadata": {},
   "source": [
    "## 30) studytime, granular"
   ]
  },
  {
   "cell_type": "markdown",
   "id": "identical-judgment",
   "metadata": {},
   "source": [
    "Мы не знаем какие данные представлены в данном столбце, для начала посмотрим на распределение параметра"
   ]
  },
  {
   "cell_type": "code",
   "execution_count": 77,
   "id": "elementary-majority",
   "metadata": {},
   "outputs": [
    {
     "data": {
      "text/plain": [
       "<AxesSubplot:>"
      ]
     },
     "execution_count": 77,
     "metadata": {},
     "output_type": "execute_result"
    },
    {
     "data": {
      "image/png": "[encoded data removed]",
      "text/plain": [
       "<Figure size 432x288 with 1 Axes>"
      ]
     },
     "metadata": {
      "needs_background": "light"
     },
     "output_type": "display_data"
    }
   ],
   "source": [
    "students.studytime_granular.hist()"
   ]
  },
  {
   "cell_type": "markdown",
   "id": "surprised-conversation",
   "metadata": {},
   "source": [
    "Уберём \"-\""
   ]
  },
  {
   "cell_type": "code",
   "execution_count": 78,
   "id": "elementary-yorkshire",
   "metadata": {},
   "outputs": [],
   "source": [
    "students.studytime_granular = students.studytime_granular.apply(\n",
    "lambda x: float(str(x).replace('-', '')))"
   ]
  },
  {
   "cell_type": "code",
   "execution_count": 79,
   "id": "opposite-cooperation",
   "metadata": {},
   "outputs": [],
   "source": [
    "#заполняем пропуски\n",
    "students.studytime_granular.fillna(\n",
    "    students.studytime_granular.median(), inplace = True)"
   ]
  },
  {
   "cell_type": "markdown",
   "id": "informational-commerce",
   "metadata": {},
   "source": [
    "Выясним, какие столбцы коррелируют с оценкой результатов по математике. Это поможет понять, какие параметры стоит оставить для модели, а какие — исключить.\n",
    "\n",
    "Корреляции рассмотрим только для числовых столбцов."
   ]
  },
  {
   "cell_type": "code",
   "execution_count": 80,
   "id": "exotic-sacramento",
   "metadata": {
    "scrolled": true
   },
   "outputs": [
    {
     "data": {
      "text/html": [
       "<div>\n",
       "<style scoped>\n",
       "    .dataframe tbody tr th:only-of-type {\n",
       "        vertical-align: middle;\n",
       "    }\n",
       "\n",
       "    .dataframe tbody tr th {\n",
       "        vertical-align: top;\n",
       "    }\n",
       "\n",
       "    .dataframe thead th {\n",
       "        text-align: right;\n",
       "    }\n",
       "</style>\n",
       "<table border=\"1\" class=\"dataframe\">\n",
       "  <thead>\n",
       "    <tr style=\"text-align: right;\">\n",
       "      <th></th>\n",
       "      <th>age</th>\n",
       "      <th>Medu</th>\n",
       "      <th>Fedu</th>\n",
       "      <th>traveltime</th>\n",
       "      <th>studytime</th>\n",
       "      <th>failures</th>\n",
       "      <th>schoolsup</th>\n",
       "      <th>famsup</th>\n",
       "      <th>paid</th>\n",
       "      <th>activities</th>\n",
       "      <th>nursery</th>\n",
       "      <th>studytime_granular</th>\n",
       "      <th>higher</th>\n",
       "      <th>internet</th>\n",
       "      <th>romantic</th>\n",
       "      <th>famrel</th>\n",
       "      <th>freetime</th>\n",
       "      <th>goout</th>\n",
       "      <th>health</th>\n",
       "      <th>absences</th>\n",
       "      <th>score</th>\n",
       "    </tr>\n",
       "  </thead>\n",
       "  <tbody>\n",
       "    <tr>\n",
       "      <th>age</th>\n",
       "      <td>1.000000</td>\n",
       "      <td>-0.143524</td>\n",
       "      <td>-0.127709</td>\n",
       "      <td>0.122769</td>\n",
       "      <td>-0.005947</td>\n",
       "      <td>0.253513</td>\n",
       "      <td>-0.248855</td>\n",
       "      <td>-0.126224</td>\n",
       "      <td>-0.027822</td>\n",
       "      <td>-0.150380</td>\n",
       "      <td>-0.122418</td>\n",
       "      <td>-0.005947</td>\n",
       "      <td>-0.196423</td>\n",
       "      <td>-0.076434</td>\n",
       "      <td>0.181451</td>\n",
       "      <td>0.069295</td>\n",
       "      <td>-0.004432</td>\n",
       "      <td>0.127334</td>\n",
       "      <td>-0.054687</td>\n",
       "      <td>0.200237</td>\n",
       "      <td>-0.127815</td>\n",
       "    </tr>\n",
       "    <tr>\n",
       "      <th>Medu</th>\n",
       "      <td>-0.143524</td>\n",
       "      <td>1.000000</td>\n",
       "      <td>0.583275</td>\n",
       "      <td>-0.167193</td>\n",
       "      <td>0.066650</td>\n",
       "      <td>-0.210472</td>\n",
       "      <td>-0.062105</td>\n",
       "      <td>0.183951</td>\n",
       "      <td>0.146106</td>\n",
       "      <td>0.117726</td>\n",
       "      <td>0.178214</td>\n",
       "      <td>0.066650</td>\n",
       "      <td>0.197987</td>\n",
       "      <td>0.189145</td>\n",
       "      <td>0.055159</td>\n",
       "      <td>-0.025733</td>\n",
       "      <td>0.004729</td>\n",
       "      <td>0.063586</td>\n",
       "      <td>-0.038772</td>\n",
       "      <td>0.078607</td>\n",
       "      <td>0.186740</td>\n",
       "    </tr>\n",
       "    <tr>\n",
       "      <th>Fedu</th>\n",
       "      <td>-0.127709</td>\n",
       "      <td>0.583275</td>\n",
       "      <td>1.000000</td>\n",
       "      <td>-0.149912</td>\n",
       "      <td>-0.024358</td>\n",
       "      <td>-0.251884</td>\n",
       "      <td>0.033711</td>\n",
       "      <td>0.176044</td>\n",
       "      <td>0.089941</td>\n",
       "      <td>0.109442</td>\n",
       "      <td>0.166396</td>\n",
       "      <td>-0.024358</td>\n",
       "      <td>0.163725</td>\n",
       "      <td>0.136331</td>\n",
       "      <td>0.036251</td>\n",
       "      <td>-0.031680</td>\n",
       "      <td>-0.039878</td>\n",
       "      <td>0.034460</td>\n",
       "      <td>0.006680</td>\n",
       "      <td>0.026591</td>\n",
       "      <td>0.121946</td>\n",
       "    </tr>\n",
       "    <tr>\n",
       "      <th>traveltime</th>\n",
       "      <td>0.122769</td>\n",
       "      <td>-0.167193</td>\n",
       "      <td>-0.149912</td>\n",
       "      <td>1.000000</td>\n",
       "      <td>-0.105600</td>\n",
       "      <td>0.113158</td>\n",
       "      <td>0.002499</td>\n",
       "      <td>-0.015127</td>\n",
       "      <td>-0.042322</td>\n",
       "      <td>-0.009519</td>\n",
       "      <td>-0.043609</td>\n",
       "      <td>-0.105600</td>\n",
       "      <td>-0.127934</td>\n",
       "      <td>-0.063103</td>\n",
       "      <td>0.060342</td>\n",
       "      <td>-0.035655</td>\n",
       "      <td>-0.005669</td>\n",
       "      <td>0.049204</td>\n",
       "      <td>-0.030027</td>\n",
       "      <td>0.007408</td>\n",
       "      <td>-0.075156</td>\n",
       "    </tr>\n",
       "    <tr>\n",
       "      <th>studytime</th>\n",
       "      <td>-0.005947</td>\n",
       "      <td>0.066650</td>\n",
       "      <td>-0.024358</td>\n",
       "      <td>-0.105600</td>\n",
       "      <td>1.000000</td>\n",
       "      <td>-0.136754</td>\n",
       "      <td>0.016287</td>\n",
       "      <td>0.128338</td>\n",
       "      <td>0.221931</td>\n",
       "      <td>0.075697</td>\n",
       "      <td>0.063054</td>\n",
       "      <td>1.000000</td>\n",
       "      <td>0.138446</td>\n",
       "      <td>0.072720</td>\n",
       "      <td>0.066977</td>\n",
       "      <td>0.038950</td>\n",
       "      <td>-0.124901</td>\n",
       "      <td>-0.028008</td>\n",
       "      <td>-0.078914</td>\n",
       "      <td>-0.075163</td>\n",
       "      <td>0.136134</td>\n",
       "    </tr>\n",
       "    <tr>\n",
       "      <th>failures</th>\n",
       "      <td>0.253513</td>\n",
       "      <td>-0.210472</td>\n",
       "      <td>-0.251884</td>\n",
       "      <td>0.113158</td>\n",
       "      <td>-0.136754</td>\n",
       "      <td>1.000000</td>\n",
       "      <td>0.052886</td>\n",
       "      <td>-0.074721</td>\n",
       "      <td>-0.138672</td>\n",
       "      <td>-0.071502</td>\n",
       "      <td>-0.087201</td>\n",
       "      <td>-0.136754</td>\n",
       "      <td>-0.287326</td>\n",
       "      <td>-0.077683</td>\n",
       "      <td>0.081664</td>\n",
       "      <td>0.026101</td>\n",
       "      <td>0.129799</td>\n",
       "      <td>0.139756</td>\n",
       "      <td>0.043681</td>\n",
       "      <td>0.120673</td>\n",
       "      <td>-0.270999</td>\n",
       "    </tr>\n",
       "    <tr>\n",
       "      <th>schoolsup</th>\n",
       "      <td>-0.248855</td>\n",
       "      <td>-0.062105</td>\n",
       "      <td>0.033711</td>\n",
       "      <td>0.002499</td>\n",
       "      <td>0.016287</td>\n",
       "      <td>0.052886</td>\n",
       "      <td>1.000000</td>\n",
       "      <td>0.101327</td>\n",
       "      <td>-0.036707</td>\n",
       "      <td>0.118833</td>\n",
       "      <td>0.032024</td>\n",
       "      <td>0.016287</td>\n",
       "      <td>0.034769</td>\n",
       "      <td>-0.005152</td>\n",
       "      <td>-0.045379</td>\n",
       "      <td>0.025923</td>\n",
       "      <td>-0.056092</td>\n",
       "      <td>-0.017179</td>\n",
       "      <td>-0.023739</td>\n",
       "      <td>0.008152</td>\n",
       "      <td>-0.254089</td>\n",
       "    </tr>\n",
       "    <tr>\n",
       "      <th>famsup</th>\n",
       "      <td>-0.126224</td>\n",
       "      <td>0.183951</td>\n",
       "      <td>0.176044</td>\n",
       "      <td>-0.015127</td>\n",
       "      <td>0.128338</td>\n",
       "      <td>-0.074721</td>\n",
       "      <td>0.101327</td>\n",
       "      <td>1.000000</td>\n",
       "      <td>0.233237</td>\n",
       "      <td>0.001211</td>\n",
       "      <td>0.033316</td>\n",
       "      <td>0.128338</td>\n",
       "      <td>0.079633</td>\n",
       "      <td>0.070793</td>\n",
       "      <td>0.041466</td>\n",
       "      <td>0.013198</td>\n",
       "      <td>0.037917</td>\n",
       "      <td>-0.016040</td>\n",
       "      <td>0.046274</td>\n",
       "      <td>0.065638</td>\n",
       "      <td>-0.036770</td>\n",
       "    </tr>\n",
       "    <tr>\n",
       "      <th>paid</th>\n",
       "      <td>-0.027822</td>\n",
       "      <td>0.146106</td>\n",
       "      <td>0.089941</td>\n",
       "      <td>-0.042322</td>\n",
       "      <td>0.221931</td>\n",
       "      <td>-0.138672</td>\n",
       "      <td>-0.036707</td>\n",
       "      <td>0.233237</td>\n",
       "      <td>1.000000</td>\n",
       "      <td>0.014803</td>\n",
       "      <td>0.122517</td>\n",
       "      <td>0.221931</td>\n",
       "      <td>0.163583</td>\n",
       "      <td>0.153025</td>\n",
       "      <td>0.084110</td>\n",
       "      <td>-0.020850</td>\n",
       "      <td>-0.041042</td>\n",
       "      <td>0.065739</td>\n",
       "      <td>-0.043621</td>\n",
       "      <td>-0.045287</td>\n",
       "      <td>0.005036</td>\n",
       "    </tr>\n",
       "    <tr>\n",
       "      <th>activities</th>\n",
       "      <td>-0.150380</td>\n",
       "      <td>0.117726</td>\n",
       "      <td>0.109442</td>\n",
       "      <td>-0.009519</td>\n",
       "      <td>0.075697</td>\n",
       "      <td>-0.071502</td>\n",
       "      <td>0.118833</td>\n",
       "      <td>0.001211</td>\n",
       "      <td>0.014803</td>\n",
       "      <td>1.000000</td>\n",
       "      <td>0.032192</td>\n",
       "      <td>0.075697</td>\n",
       "      <td>0.024980</td>\n",
       "      <td>0.061360</td>\n",
       "      <td>-0.039254</td>\n",
       "      <td>0.055952</td>\n",
       "      <td>0.082216</td>\n",
       "      <td>0.031720</td>\n",
       "      <td>0.021305</td>\n",
       "      <td>-0.031123</td>\n",
       "      <td>0.053150</td>\n",
       "    </tr>\n",
       "    <tr>\n",
       "      <th>nursery</th>\n",
       "      <td>-0.122418</td>\n",
       "      <td>0.178214</td>\n",
       "      <td>0.166396</td>\n",
       "      <td>-0.043609</td>\n",
       "      <td>0.063054</td>\n",
       "      <td>-0.087201</td>\n",
       "      <td>0.032024</td>\n",
       "      <td>0.033316</td>\n",
       "      <td>0.122517</td>\n",
       "      <td>0.032192</td>\n",
       "      <td>1.000000</td>\n",
       "      <td>0.063054</td>\n",
       "      <td>0.131416</td>\n",
       "      <td>0.050574</td>\n",
       "      <td>0.022889</td>\n",
       "      <td>-0.019864</td>\n",
       "      <td>-0.060946</td>\n",
       "      <td>0.022576</td>\n",
       "      <td>-0.017265</td>\n",
       "      <td>0.010605</td>\n",
       "      <td>0.027637</td>\n",
       "    </tr>\n",
       "    <tr>\n",
       "      <th>studytime_granular</th>\n",
       "      <td>-0.005947</td>\n",
       "      <td>0.066650</td>\n",
       "      <td>-0.024358</td>\n",
       "      <td>-0.105600</td>\n",
       "      <td>1.000000</td>\n",
       "      <td>-0.136754</td>\n",
       "      <td>0.016287</td>\n",
       "      <td>0.128338</td>\n",
       "      <td>0.221931</td>\n",
       "      <td>0.075697</td>\n",
       "      <td>0.063054</td>\n",
       "      <td>1.000000</td>\n",
       "      <td>0.138446</td>\n",
       "      <td>0.072720</td>\n",
       "      <td>0.066977</td>\n",
       "      <td>0.038950</td>\n",
       "      <td>-0.124901</td>\n",
       "      <td>-0.028008</td>\n",
       "      <td>-0.078914</td>\n",
       "      <td>-0.075163</td>\n",
       "      <td>0.136134</td>\n",
       "    </tr>\n",
       "    <tr>\n",
       "      <th>higher</th>\n",
       "      <td>-0.196423</td>\n",
       "      <td>0.197987</td>\n",
       "      <td>0.163725</td>\n",
       "      <td>-0.127934</td>\n",
       "      <td>0.138446</td>\n",
       "      <td>-0.287326</td>\n",
       "      <td>0.034769</td>\n",
       "      <td>0.079633</td>\n",
       "      <td>0.163583</td>\n",
       "      <td>0.024980</td>\n",
       "      <td>0.131416</td>\n",
       "      <td>0.138446</td>\n",
       "      <td>1.000000</td>\n",
       "      <td>0.095706</td>\n",
       "      <td>-0.070502</td>\n",
       "      <td>-0.007882</td>\n",
       "      <td>-0.013374</td>\n",
       "      <td>0.019477</td>\n",
       "      <td>0.020630</td>\n",
       "      <td>-0.126320</td>\n",
       "      <td>0.103313</td>\n",
       "    </tr>\n",
       "    <tr>\n",
       "      <th>internet</th>\n",
       "      <td>-0.076434</td>\n",
       "      <td>0.189145</td>\n",
       "      <td>0.136331</td>\n",
       "      <td>-0.063103</td>\n",
       "      <td>0.072720</td>\n",
       "      <td>-0.077683</td>\n",
       "      <td>-0.005152</td>\n",
       "      <td>0.070793</td>\n",
       "      <td>0.153025</td>\n",
       "      <td>0.061360</td>\n",
       "      <td>0.050574</td>\n",
       "      <td>0.072720</td>\n",
       "      <td>0.095706</td>\n",
       "      <td>1.000000</td>\n",
       "      <td>0.081196</td>\n",
       "      <td>0.100720</td>\n",
       "      <td>0.122420</td>\n",
       "      <td>0.146405</td>\n",
       "      <td>-0.070682</td>\n",
       "      <td>0.097173</td>\n",
       "      <td>0.060160</td>\n",
       "    </tr>\n",
       "    <tr>\n",
       "      <th>romantic</th>\n",
       "      <td>0.181451</td>\n",
       "      <td>0.055159</td>\n",
       "      <td>0.036251</td>\n",
       "      <td>0.060342</td>\n",
       "      <td>0.066977</td>\n",
       "      <td>0.081664</td>\n",
       "      <td>-0.045379</td>\n",
       "      <td>0.041466</td>\n",
       "      <td>0.084110</td>\n",
       "      <td>-0.039254</td>\n",
       "      <td>0.022889</td>\n",
       "      <td>0.066977</td>\n",
       "      <td>-0.070502</td>\n",
       "      <td>0.081196</td>\n",
       "      <td>1.000000</td>\n",
       "      <td>-0.084264</td>\n",
       "      <td>-0.020133</td>\n",
       "      <td>0.032925</td>\n",
       "      <td>0.001059</td>\n",
       "      <td>0.192190</td>\n",
       "      <td>-0.053920</td>\n",
       "    </tr>\n",
       "    <tr>\n",
       "      <th>famrel</th>\n",
       "      <td>0.069295</td>\n",
       "      <td>-0.025733</td>\n",
       "      <td>-0.031680</td>\n",
       "      <td>-0.035655</td>\n",
       "      <td>0.038950</td>\n",
       "      <td>0.026101</td>\n",
       "      <td>0.025923</td>\n",
       "      <td>0.013198</td>\n",
       "      <td>-0.020850</td>\n",
       "      <td>0.055952</td>\n",
       "      <td>-0.019864</td>\n",
       "      <td>0.038950</td>\n",
       "      <td>-0.007882</td>\n",
       "      <td>0.100720</td>\n",
       "      <td>-0.084264</td>\n",
       "      <td>1.000000</td>\n",
       "      <td>0.142808</td>\n",
       "      <td>0.029038</td>\n",
       "      <td>0.112549</td>\n",
       "      <td>-0.044080</td>\n",
       "      <td>0.041462</td>\n",
       "    </tr>\n",
       "    <tr>\n",
       "      <th>freetime</th>\n",
       "      <td>-0.004432</td>\n",
       "      <td>0.004729</td>\n",
       "      <td>-0.039878</td>\n",
       "      <td>-0.005669</td>\n",
       "      <td>-0.124901</td>\n",
       "      <td>0.129799</td>\n",
       "      <td>-0.056092</td>\n",
       "      <td>0.037917</td>\n",
       "      <td>-0.041042</td>\n",
       "      <td>0.082216</td>\n",
       "      <td>-0.060946</td>\n",
       "      <td>-0.124901</td>\n",
       "      <td>-0.013374</td>\n",
       "      <td>0.122420</td>\n",
       "      <td>-0.020133</td>\n",
       "      <td>0.142808</td>\n",
       "      <td>1.000000</td>\n",
       "      <td>0.284366</td>\n",
       "      <td>0.069938</td>\n",
       "      <td>-0.083328</td>\n",
       "      <td>-0.014381</td>\n",
       "    </tr>\n",
       "    <tr>\n",
       "      <th>goout</th>\n",
       "      <td>0.127334</td>\n",
       "      <td>0.063586</td>\n",
       "      <td>0.034460</td>\n",
       "      <td>0.049204</td>\n",
       "      <td>-0.028008</td>\n",
       "      <td>0.139756</td>\n",
       "      <td>-0.017179</td>\n",
       "      <td>-0.016040</td>\n",
       "      <td>0.065739</td>\n",
       "      <td>0.031720</td>\n",
       "      <td>0.022576</td>\n",
       "      <td>-0.028008</td>\n",
       "      <td>0.019477</td>\n",
       "      <td>0.146405</td>\n",
       "      <td>0.032925</td>\n",
       "      <td>0.029038</td>\n",
       "      <td>0.284366</td>\n",
       "      <td>1.000000</td>\n",
       "      <td>-0.004130</td>\n",
       "      <td>0.039923</td>\n",
       "      <td>-0.174924</td>\n",
       "    </tr>\n",
       "    <tr>\n",
       "      <th>health</th>\n",
       "      <td>-0.054687</td>\n",
       "      <td>-0.038772</td>\n",
       "      <td>0.006680</td>\n",
       "      <td>-0.030027</td>\n",
       "      <td>-0.078914</td>\n",
       "      <td>0.043681</td>\n",
       "      <td>-0.023739</td>\n",
       "      <td>0.046274</td>\n",
       "      <td>-0.043621</td>\n",
       "      <td>0.021305</td>\n",
       "      <td>-0.017265</td>\n",
       "      <td>-0.078914</td>\n",
       "      <td>0.020630</td>\n",
       "      <td>-0.070682</td>\n",
       "      <td>0.001059</td>\n",
       "      <td>0.112549</td>\n",
       "      <td>0.069938</td>\n",
       "      <td>-0.004130</td>\n",
       "      <td>1.000000</td>\n",
       "      <td>-0.021090</td>\n",
       "      <td>-0.073723</td>\n",
       "    </tr>\n",
       "    <tr>\n",
       "      <th>absences</th>\n",
       "      <td>0.200237</td>\n",
       "      <td>0.078607</td>\n",
       "      <td>0.026591</td>\n",
       "      <td>0.007408</td>\n",
       "      <td>-0.075163</td>\n",
       "      <td>0.120673</td>\n",
       "      <td>0.008152</td>\n",
       "      <td>0.065638</td>\n",
       "      <td>-0.045287</td>\n",
       "      <td>-0.031123</td>\n",
       "      <td>0.010605</td>\n",
       "      <td>-0.075163</td>\n",
       "      <td>-0.126320</td>\n",
       "      <td>0.097173</td>\n",
       "      <td>0.192190</td>\n",
       "      <td>-0.044080</td>\n",
       "      <td>-0.083328</td>\n",
       "      <td>0.039923</td>\n",
       "      <td>-0.021090</td>\n",
       "      <td>1.000000</td>\n",
       "      <td>-0.210874</td>\n",
       "    </tr>\n",
       "    <tr>\n",
       "      <th>score</th>\n",
       "      <td>-0.127815</td>\n",
       "      <td>0.186740</td>\n",
       "      <td>0.121946</td>\n",
       "      <td>-0.075156</td>\n",
       "      <td>0.136134</td>\n",
       "      <td>-0.270999</td>\n",
       "      <td>-0.254089</td>\n",
       "      <td>-0.036770</td>\n",
       "      <td>0.005036</td>\n",
       "      <td>0.053150</td>\n",
       "      <td>0.027637</td>\n",
       "      <td>0.136134</td>\n",
       "      <td>0.103313</td>\n",
       "      <td>0.060160</td>\n",
       "      <td>-0.053920</td>\n",
       "      <td>0.041462</td>\n",
       "      <td>-0.014381</td>\n",
       "      <td>-0.174924</td>\n",
       "      <td>-0.073723</td>\n",
       "      <td>-0.210874</td>\n",
       "      <td>1.000000</td>\n",
       "    </tr>\n",
       "  </tbody>\n",
       "</table>\n",
       "</div>"
      ],
      "text/plain": [
       "                         age      Medu      Fedu  traveltime  studytime  \\\n",
       "age                 1.000000 -0.143524 -0.127709    0.122769  -0.005947   \n",
       "Medu               -0.143524  1.000000  0.583275   -0.167193   0.066650   \n",
       "Fedu               -0.127709  0.583275  1.000000   -0.149912  -0.024358   \n",
       "traveltime          0.122769 -0.167193 -0.149912    1.000000  -0.105600   \n",
       "studytime          -0.005947  0.066650 -0.024358   -0.105600   1.000000   \n",
       "failures            0.253513 -0.210472 -0.251884    0.113158  -0.136754   \n",
       "schoolsup          -0.248855 -0.062105  0.033711    0.002499   0.016287   \n",
       "famsup             -0.126224  0.183951  0.176044   -0.015127   0.128338   \n",
       "paid               -0.027822  0.146106  0.089941   -0.042322   0.221931   \n",
       "activities         -0.150380  0.117726  0.109442   -0.009519   0.075697   \n",
       "nursery            -0.122418  0.178214  0.166396   -0.043609   0.063054   \n",
       "studytime_granular -0.005947  0.066650 -0.024358   -0.105600   1.000000   \n",
       "higher             -0.196423  0.197987  0.163725   -0.127934   0.138446   \n",
       "internet           -0.076434  0.189145  0.136331   -0.063103   0.072720   \n",
       "romantic            0.181451  0.055159  0.036251    0.060342   0.066977   \n",
       "famrel              0.069295 -0.025733 -0.031680   -0.035655   0.038950   \n",
       "freetime           -0.004432  0.004729 -0.039878   -0.005669  -0.124901   \n",
       "goout               0.127334  0.063586  0.034460    0.049204  -0.028008   \n",
       "health             -0.054687 -0.038772  0.006680   -0.030027  -0.078914   \n",
       "absences            0.200237  0.078607  0.026591    0.007408  -0.075163   \n",
       "score              -0.127815  0.186740  0.121946   -0.075156   0.136134   \n",
       "\n",
       "                    failures  schoolsup    famsup      paid  activities  \\\n",
       "age                 0.253513  -0.248855 -0.126224 -0.027822   -0.150380   \n",
       "Medu               -0.210472  -0.062105  0.183951  0.146106    0.117726   \n",
       "Fedu               -0.251884   0.033711  0.176044  0.089941    0.109442   \n",
       "traveltime          0.113158   0.002499 -0.015127 -0.042322   -0.009519   \n",
       "studytime          -0.136754   0.016287  0.128338  0.221931    0.075697   \n",
       "failures            1.000000   0.052886 -0.074721 -0.138672   -0.071502   \n",
       "schoolsup           0.052886   1.000000  0.101327 -0.036707    0.118833   \n",
       "famsup             -0.074721   0.101327  1.000000  0.233237    0.001211   \n",
       "paid               -0.138672  -0.036707  0.233237  1.000000    0.014803   \n",
       "activities         -0.071502   0.118833  0.001211  0.014803    1.000000   \n",
       "nursery            -0.087201   0.032024  0.033316  0.122517    0.032192   \n",
       "studytime_granular -0.136754   0.016287  0.128338  0.221931    0.075697   \n",
       "higher             -0.287326   0.034769  0.079633  0.163583    0.024980   \n",
       "internet           -0.077683  -0.005152  0.070793  0.153025    0.061360   \n",
       "romantic            0.081664  -0.045379  0.041466  0.084110   -0.039254   \n",
       "famrel              0.026101   0.025923  0.013198 -0.020850    0.055952   \n",
       "freetime            0.129799  -0.056092  0.037917 -0.041042    0.082216   \n",
       "goout               0.139756  -0.017179 -0.016040  0.065739    0.031720   \n",
       "health              0.043681  -0.023739  0.046274 -0.043621    0.021305   \n",
       "absences            0.120673   0.008152  0.065638 -0.045287   -0.031123   \n",
       "score              -0.270999  -0.254089 -0.036770  0.005036    0.053150   \n",
       "\n",
       "                     nursery  studytime_granular    higher  internet  \\\n",
       "age                -0.122418           -0.005947 -0.196423 -0.076434   \n",
       "Medu                0.178214            0.066650  0.197987  0.189145   \n",
       "Fedu                0.166396           -0.024358  0.163725  0.136331   \n",
       "traveltime         -0.043609           -0.105600 -0.127934 -0.063103   \n",
       "studytime           0.063054            1.000000  0.138446  0.072720   \n",
       "failures           -0.087201           -0.136754 -0.287326 -0.077683   \n",
       "schoolsup           0.032024            0.016287  0.034769 -0.005152   \n",
       "famsup              0.033316            0.128338  0.079633  0.070793   \n",
       "paid                0.122517            0.221931  0.163583  0.153025   \n",
       "activities          0.032192            0.075697  0.024980  0.061360   \n",
       "nursery             1.000000            0.063054  0.131416  0.050574   \n",
       "studytime_granular  0.063054            1.000000  0.138446  0.072720   \n",
       "higher              0.131416            0.138446  1.000000  0.095706   \n",
       "internet            0.050574            0.072720  0.095706  1.000000   \n",
       "romantic            0.022889            0.066977 -0.070502  0.081196   \n",
       "famrel             -0.019864            0.038950 -0.007882  0.100720   \n",
       "freetime           -0.060946           -0.124901 -0.013374  0.122420   \n",
       "goout               0.022576           -0.028008  0.019477  0.146405   \n",
       "health             -0.017265           -0.078914  0.020630 -0.070682   \n",
       "absences            0.010605           -0.075163 -0.126320  0.097173   \n",
       "score               0.027637            0.136134  0.103313  0.060160   \n",
       "\n",
       "                    romantic    famrel  freetime     goout    health  \\\n",
       "age                 0.181451  0.069295 -0.004432  0.127334 -0.054687   \n",
       "Medu                0.055159 -0.025733  0.004729  0.063586 -0.038772   \n",
       "Fedu                0.036251 -0.031680 -0.039878  0.034460  0.006680   \n",
       "traveltime          0.060342 -0.035655 -0.005669  0.049204 -0.030027   \n",
       "studytime           0.066977  0.038950 -0.124901 -0.028008 -0.078914   \n",
       "failures            0.081664  0.026101  0.129799  0.139756  0.043681   \n",
       "schoolsup          -0.045379  0.025923 -0.056092 -0.017179 -0.023739   \n",
       "famsup              0.041466  0.013198  0.037917 -0.016040  0.046274   \n",
       "paid                0.084110 -0.020850 -0.041042  0.065739 -0.043621   \n",
       "activities         -0.039254  0.055952  0.082216  0.031720  0.021305   \n",
       "nursery             0.022889 -0.019864 -0.060946  0.022576 -0.017265   \n",
       "studytime_granular  0.066977  0.038950 -0.124901 -0.028008 -0.078914   \n",
       "higher             -0.070502 -0.007882 -0.013374  0.019477  0.020630   \n",
       "internet            0.081196  0.100720  0.122420  0.146405 -0.070682   \n",
       "romantic            1.000000 -0.084264 -0.020133  0.032925  0.001059   \n",
       "famrel             -0.084264  1.000000  0.142808  0.029038  0.112549   \n",
       "freetime           -0.020133  0.142808  1.000000  0.284366  0.069938   \n",
       "goout               0.032925  0.029038  0.284366  1.000000 -0.004130   \n",
       "health              0.001059  0.112549  0.069938 -0.004130  1.000000   \n",
       "absences            0.192190 -0.044080 -0.083328  0.039923 -0.021090   \n",
       "score              -0.053920  0.041462 -0.014381 -0.174924 -0.073723   \n",
       "\n",
       "                    absences     score  \n",
       "age                 0.200237 -0.127815  \n",
       "Medu                0.078607  0.186740  \n",
       "Fedu                0.026591  0.121946  \n",
       "traveltime          0.007408 -0.075156  \n",
       "studytime          -0.075163  0.136134  \n",
       "failures            0.120673 -0.270999  \n",
       "schoolsup           0.008152 -0.254089  \n",
       "famsup              0.065638 -0.036770  \n",
       "paid               -0.045287  0.005036  \n",
       "activities         -0.031123  0.053150  \n",
       "nursery             0.010605  0.027637  \n",
       "studytime_granular -0.075163  0.136134  \n",
       "higher             -0.126320  0.103313  \n",
       "internet            0.097173  0.060160  \n",
       "romantic            0.192190 -0.053920  \n",
       "famrel             -0.044080  0.041462  \n",
       "freetime           -0.083328 -0.014381  \n",
       "goout               0.039923 -0.174924  \n",
       "health             -0.021090 -0.073723  \n",
       "absences            1.000000 -0.210874  \n",
       "score              -0.210874  1.000000  "
      ]
     },
     "execution_count": 80,
     "metadata": {},
     "output_type": "execute_result"
    }
   ],
   "source": [
    "students.corr()"
   ]
  },
  {
   "cell_type": "markdown",
   "id": "statewide-formula",
   "metadata": {},
   "source": [
    "Корреляционный анализ нам показал положительную зависимость результата итогового теста от таких параметров как: Medu, Fedu, studytime, higher, studytime granular (образование обоих родителей и время на учёбу помимо школы). А также обратную зависимость с такими параметрами как: age, failures, schoolsup, goout, absences. "
   ]
  },
  {
   "cell_type": "code",
   "execution_count": 81,
   "id": "generous-twenty",
   "metadata": {},
   "outputs": [
    {
     "data": {
      "image/png": "[encoded data removed]",
      "text/plain": [
       "<Figure size 1008x288 with 1 Axes>"
      ]
     },
     "metadata": {
      "needs_background": "light"
     },
     "output_type": "display_data"
    },
    {
     "data": {
      "image/png": "[encoded data removed]",
      "text/plain": [
       "<Figure size 1008x288 with 1 Axes>"
      ]
     },
     "metadata": {
      "needs_background": "light"
     },
     "output_type": "display_data"
    },
    {
     "data": {
      "image/png": "[encoded data removed]",
      "text/plain": [
       "<Figure size 1008x288 with 1 Axes>"
      ]
     },
     "metadata": {
      "needs_background": "light"
     },
     "output_type": "display_data"
    },
    {
     "data": {
      "image/png": "[encoded data removed]",
      "text/plain": [
       "<Figure size 1008x288 with 1 Axes>"
      ]
     },
     "metadata": {
      "needs_background": "light"
     },
     "output_type": "display_data"
    },
    {
     "data": {
      "image/png": "[encoded data removed]",
      "text/plain": [
       "<Figure size 1008x288 with 1 Axes>"
      ]
     },
     "metadata": {
      "needs_background": "light"
     },
     "output_type": "display_data"
    },
    {
     "data": {
      "image/png": "[encoded data removed]",
      "text/plain": [
       "<Figure size 1008x288 with 1 Axes>"
      ]
     },
     "metadata": {
      "needs_background": "light"
     },
     "output_type": "display_data"
    },
    {
     "data": {
      "image/png": "[encoded data removed]",
      "text/plain": [
       "<Figure size 1008x288 with 1 Axes>"
      ]
     },
     "metadata": {
      "needs_background": "light"
     },
     "output_type": "display_data"
    },
    {
     "data": {
      "image/png": "[encoded data removed]",
      "text/plain": [
       "<Figure size 1008x288 with 1 Axes>"
      ]
     },
     "metadata": {
      "needs_background": "light"
     },
     "output_type": "display_data"
    },
    {
     "data": {
      "image/png": "[encoded data removed]",
      "text/plain": [
       "<Figure size 1008x288 with 1 Axes>"
      ]
     },
     "metadata": {
      "needs_background": "light"
     },
     "output_type": "display_data"
    }
   ],
   "source": [
    "for col in ['school', 'sex', 'address', 'famsize', 'Pstatus', 'Mjob', 'Fjob', \n",
    "           'reason', 'guardian']:\n",
    "    get_boxplot(col)"
   ]
  },
  {
   "cell_type": "markdown",
   "id": "juvenile-vacuum",
   "metadata": {},
   "source": [
    "По графикам похоже, что параметры sex, address, Mjob, Fjob, reason, guardian могут влиять на итоговое значение score. Проверим это с помощью теста Стьюдента:"
   ]
  },
  {
   "cell_type": "code",
   "execution_count": 82,
   "id": "congressional-throw",
   "metadata": {},
   "outputs": [
    {
     "name": "stdout",
     "output_type": "stream",
     "text": [
      "Найдены статистически значимые различия для колонки sex\n",
      "Найдены статистически значимые различия для колонки address\n",
      "Найдены статистически значимые различия для колонки Mjob\n",
      "Найдены статистически значимые различия для колонки Fjob\n"
     ]
    }
   ],
   "source": [
    "for col in ['sex', 'address', 'Mjob', 'Fjob', 'reason',\n",
    "           'Pstatus', 'guardian']:\n",
    "    get_stat_dif(col)"
   ]
  },
  {
   "cell_type": "markdown",
   "id": "appropriate-illinois",
   "metadata": {},
   "source": [
    "Оставим только значимые параметры"
   ]
  },
  {
   "cell_type": "code",
   "execution_count": 83,
   "id": "pursuant-swift",
   "metadata": {},
   "outputs": [
    {
     "name": "stdout",
     "output_type": "stream",
     "text": [
      "<class 'pandas.core.frame.DataFrame'>\n",
      "Int64Index: 354 entries, 0 to 394\n",
      "Data columns (total 14 columns):\n",
      " #   Column              Non-Null Count  Dtype  \n",
      "---  ------              --------------  -----  \n",
      " 0   sex                 354 non-null    object \n",
      " 1   address             354 non-null    object \n",
      " 2   Mjob                354 non-null    object \n",
      " 3   Medu                354 non-null    float64\n",
      " 4   Fedu                354 non-null    float64\n",
      " 5   studytime           354 non-null    float64\n",
      " 6   studytime_granular  354 non-null    float64\n",
      " 7   age                 354 non-null    int64  \n",
      " 8   failures            354 non-null    float64\n",
      " 9   schoolsup           354 non-null    float64\n",
      " 10  goout               354 non-null    float64\n",
      " 11  Fjob                354 non-null    object \n",
      " 12  higher              354 non-null    float64\n",
      " 13  absences            354 non-null    float64\n",
      "dtypes: float64(9), int64(1), object(4)\n",
      "memory usage: 49.6+ KB\n"
     ]
    }
   ],
   "source": [
    "students_for_model = students.loc[:, ['sex', 'address', 'Mjob', 'Medu', 'Fedu',\n",
    "                                'studytime', 'studytime_granular', 'age', \n",
    "                                'failures', 'schoolsup', 'goout', 'Fjob',\n",
    "                                      'higher', 'absences']]\n",
    "\n",
    "students_for_model.info()"
   ]
  },
  {
   "cell_type": "markdown",
   "id": "dying-inquiry",
   "metadata": {},
   "source": [
    "## Вывод:\n",
    "\n",
    "В результате EDA для анализа влияния условий жизни учеников на результаты итогового теста по математике, получены следующие результаты:\n",
    "\n",
    "Практически в каждом стобце, за исключением столбцов school, sex и age. Удалять строки с пропусками не представляется возможным, будут слишком большие потери в данных. Пропуски заполнялись наиболее вероятным значением для номинативных переменных и медианой для числовых.\n",
    "\n",
    "Выбросы  были в колонках Fedu, famrel, absences, score. Выбросы были удалены, в итоге осталось 354 записи в датасете.\n",
    "\n",
    "Положительная кореляция параметров score и Medu, Fedu, studytime, higher, studytime granular говорит нам о том, что образование родителей и время на дополнительные занятия вкупе с желанием поступить в высшее учебное заведение в дальнейшем, мотивируют учеников на прилежную учёбу.\n",
    "\n",
    "В то время такой параметр как schoolsup скорее всего показывает дополнительную образовательную поддержку для учеников, имеющих проблемы с успеваемостью.\n",
    "\n",
    "Параметры age, failures, goout, absences оказывают негативное влияние наитоговые результаты.\n",
    "\n",
    "Также стоит обратить внимание на такие параметры как sex, address, Fjob, Mjob.\n"
   ]
  },
  {
   "cell_type": "code",
   "execution_count": null,
   "id": "classical-generator",
   "metadata": {},
   "outputs": [],
   "source": []
  }
 ],
 "metadata": {
  "kernelspec": {
   "display_name": "Python 3",
   "language": "python",
   "name": "python3"
  },
  "language_info": {
   "codemirror_mode": {
    "name": "ipython",
    "version": 3
   },
   "file_extension": ".py",
   "mimetype": "text/x-python",
   "name": "python",
   "nbconvert_exporter": "python",
   "pygments_lexer": "ipython3",
   "version": "3.8.5"
  }
 },
 "nbformat": 4,
 "nbformat_minor": 5
}
