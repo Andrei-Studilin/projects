{
 "cells": [
  {
   "cell_type": "markdown",
   "metadata": {},
   "source": [
    "# Загрузка Pandas и очистка данных"
   ]
  },
  {
   "cell_type": "code",
   "execution_count": 436,
   "metadata": {},
   "outputs": [],
   "source": [
    "import pandas as pd\n",
    "from collections import Counter\n",
    "import re\n",
    "import datetime\n",
    "from datetime import datetime, timedelta\n",
    "import numpy as np"
   ]
  },
  {
   "cell_type": "code",
   "execution_count": 437,
   "metadata": {},
   "outputs": [],
   "source": [
    "df = pd.read_csv('main_task_new.csv') #Загружаем датасет"
   ]
  },
  {
   "cell_type": "markdown",
   "metadata": {},
   "source": [
    "## Предобработка"
   ]
  },
  {
   "cell_type": "code",
   "execution_count": 438,
   "metadata": {},
   "outputs": [],
   "source": [
    "\n",
    "# Найдём даты:\n",
    "pattern = re.compile('\\d\\d/\\d\\d/\\d\\d\\d\\d')\n",
    "\n",
    "# Преобразование в формат datetime:\n",
    "def to_datetime(time):\n",
    "    datetime_list = []\n",
    "    for date in time:\n",
    "        dt = datetime.strptime(date, '%m/%d/%Y')\n",
    "        datetime_list.append(dt)\n",
    "    return datetime_list\n",
    "\n",
    "# Cоздадим словарь для замены\n",
    "price_dict = {'$' : 1,\n",
    "                '$$ - $$$' : 2,\n",
    "                '$$$$' : 3,\n",
    "                }\n",
    "# Заменим на числовые значения\n",
    "df['Price Range'] = df['Price Range'].replace(to_replace = price_dict)\n",
    "df['Price Range'].fillna(df['Price Range'].median(), inplace = True)\n"
   ]
  },
  {
   "cell_type": "code",
   "execution_count": 439,
   "metadata": {},
   "outputs": [
    {
     "data": {
      "text/plain": [
       "11909"
      ]
     },
     "execution_count": 439,
     "metadata": {},
     "output_type": "execute_result"
    }
   ],
   "source": [
    "# Посчитаем количество уникальных значений в столбце Restaurant_id\n",
    "# Ищем сети ресторанов\n",
    "restaurant_with_freqs = list(df['Restaurant_id'].value_counts())\n",
    "len(restaurant_with_freqs)"
   ]
  },
  {
   "cell_type": "code",
   "execution_count": 440,
   "metadata": {},
   "outputs": [
    {
     "data": {
      "text/plain": [
       "11"
      ]
     },
     "execution_count": 440,
     "metadata": {},
     "output_type": "execute_result"
    }
   ],
   "source": [
    "# Оставим только рестораны, описывающие 95% примеров\n",
    "top_restaurant_count = int(np.percentile(restaurant_with_freqs, 95))\n",
    "top_restaurant_count"
   ]
  },
  {
   "cell_type": "code",
   "execution_count": 441,
   "metadata": {},
   "outputs": [],
   "source": [
    "# Оставим только этот топ, а остальные рестораны назовём other\n",
    "all_restaurants = df['Restaurant_id'].value_counts().index\n",
    "top_restaurants = list(all_restaurants)[:top_restaurant_count]\n",
    "restaurants_to_throw_away = list(set(all_restaurants) - set(top_restaurants))\n",
    "df.loc[df['Restaurant_id'].isin(restaurants_to_throw_away), \n",
    "             'restaurant'] = 'other'"
   ]
  },
  {
   "cell_type": "code",
   "execution_count": 442,
   "metadata": {},
   "outputs": [],
   "source": [
    "# Заполним пропуски средним значением\n",
    "df['Number of Reviews'].fillna(0, inplace = True)"
   ]
  },
  {
   "cell_type": "code",
   "execution_count": 443,
   "metadata": {},
   "outputs": [],
   "source": [
    "# Обработка столбца \"Cuisine Style\":\n",
    "# Посчитаем, сколько типов кухонь представлено в каждом ресторане. В случае\n",
    "# пропуска, будем считать, что в ресторане представлен один тип кухни\n",
    "\n",
    "df['Cuisine Style'].fillna('1', inplace = True)\n"
   ]
  },
  {
   "cell_type": "code",
   "execution_count": 444,
   "metadata": {},
   "outputs": [],
   "source": [
    "# Уберём лишние скобки и пробелы:\n",
    "df['Cuisine Style']=df['Cuisine Style'].apply(lambda s: str(s).replace('[',''))\n",
    "df['Cuisine Style']=df['Cuisine Style'].apply(lambda s: str(s).replace(']',''))\n",
    "df['Cuisine Style']=df['Cuisine Style'].apply(lambda s: str(s).replace(' ',''))"
   ]
  },
  {
   "cell_type": "code",
   "execution_count": 445,
   "metadata": {},
   "outputs": [],
   "source": [
    "# Предствим кухни в виде списка:\n",
    "df['Cuisine Style'] = df['Cuisine Style'].apply(lambda s: str(s).split(','))"
   ]
  },
  {
   "cell_type": "code",
   "execution_count": 446,
   "metadata": {},
   "outputs": [],
   "source": [
    "# Посчитаем количество кухонь для каждого ресторана:\n",
    "df['cuisine_count'] = df['Cuisine Style'].apply(lambda s: len(s))"
   ]
  },
  {
   "cell_type": "code",
   "execution_count": 447,
   "metadata": {},
   "outputs": [],
   "source": [
    "# Найдём даты отзывов:\n",
    "df['date'] = df['Reviews'].apply(lambda s:pattern.findall(s))"
   ]
  },
  {
   "cell_type": "code",
   "execution_count": 448,
   "metadata": {},
   "outputs": [],
   "source": [
    "# Преобразуем в формат datetime:\n",
    "df['date'] = df['date'].apply(to_datetime)\n"
   ]
  },
  {
   "cell_type": "code",
   "execution_count": 449,
   "metadata": {},
   "outputs": [],
   "source": [
    "# Посчитаем интервал между датами публикаций отзывов, размещённых на сайте:\n",
    "df['date_1'] = df['date'].apply(lambda s: len(s)) \n",
    "df['date_interval'] = df[df.date_1 > 1]['date'].apply(lambda s: abs(s[0]-s[1]))\n"
   ]
  },
  {
   "cell_type": "code",
   "execution_count": 450,
   "metadata": {},
   "outputs": [],
   "source": [
    "# заменим пропуски средним значением:\n",
    "df['date_interval'].fillna(df['date_interval'].median(), inplace = True)"
   ]
  },
  {
   "cell_type": "code",
   "execution_count": 451,
   "metadata": {},
   "outputs": [],
   "source": [
    "# преобразуем в float\n",
    "df['date_interval'] = df['date_interval'].apply( lambda s: str(s).split(' '))\n",
    "df['date_interval'] = df['date_interval'].apply(lambda s: float(s[0]))"
   ]
  },
  {
   "cell_type": "code",
   "execution_count": 452,
   "metadata": {},
   "outputs": [],
   "source": [
    "# дата первого отзыва\n",
    "df['date1'] = df[df['date_1']>0]['date'].apply(lambda s: s[0]) "
   ]
  },
  {
   "cell_type": "code",
   "execution_count": 453,
   "metadata": {},
   "outputs": [],
   "source": [
    "# дата второго отзыва\n",
    "df['date2'] = df[df['date_1']>1]['date'].apply(lambda s: s[1])"
   ]
  },
  {
   "cell_type": "code",
   "execution_count": 454,
   "metadata": {},
   "outputs": [
    {
     "data": {
      "text/plain": [
       "datetime.datetime(2018, 2, 26, 0, 0)"
      ]
     },
     "execution_count": 454,
     "metadata": {},
     "output_type": "execute_result"
    }
   ],
   "source": [
    "# дата последнего отзыва\n",
    "max_date = max(df.date.max())\n",
    "max_date\n"
   ]
  },
  {
   "cell_type": "code",
   "execution_count": 426,
   "metadata": {},
   "outputs": [],
   "source": [
    "# проверим, насколько давно были оставлены отзывы, относительно последнего\n",
    "\n",
    "df['date1'] = df[df['date_1']>0]['date1'].apply(lambda s: max_date - s)\n",
    "df['date2'] = df[df['date_1']>1]['date2'].apply(lambda s: max_date - s) "
   ]
  },
  {
   "cell_type": "code",
   "execution_count": 427,
   "metadata": {},
   "outputs": [],
   "source": [
    "# заменим пропуски средним значением:\n",
    "df['date1'].fillna(df['date1'].median(), inplace = True)\n",
    "df['date2'].fillna(df['date2'].median(), inplace = True)"
   ]
  },
  {
   "cell_type": "code",
   "execution_count": 428,
   "metadata": {},
   "outputs": [],
   "source": [
    "# преобразуем в float\n",
    "df['date1'] = df['date1'].apply( lambda s: str(s).split(' '))\n",
    "df['date1'] = df['date1'].apply(lambda s: float(s[0]))\n",
    "\n",
    "df['date2'] = df['date2'].apply( lambda s: str(s).split(' '))\n",
    "df['date2'] = df['date2'].apply(lambda s: float(s[0]))"
   ]
  },
  {
   "cell_type": "code",
   "execution_count": 429,
   "metadata": {},
   "outputs": [],
   "source": [
    "# Переведём категориальные переменные в числовые\n",
    "df = pd.get_dummies(df, columns = ['City', 'restaurant'],\n",
    "                    dummy_na = True)"
   ]
  },
  {
   "cell_type": "code",
   "execution_count": 430,
   "metadata": {},
   "outputs": [],
   "source": [
    "# Уберём неподходящие столбцы:\n",
    "df.drop(['ID_TA'], inplace = True, axis = 1)\n",
    "df.drop(['URL_TA'], inplace = True, axis = 1)\n",
    "df.drop(['Cuisine Style'], inplace = True, axis = 1)\n",
    "df.drop(['Reviews'], inplace = True, axis = 1)\n",
    "df.drop(['Restaurant_id'], inplace = True, axis =1)\n",
    "df.drop(['date'], inplace = True, axis = 1)\n",
    "df.drop(['date_1'], inplace = True, axis = 1)"
   ]
  },
  {
   "cell_type": "markdown",
   "metadata": {},
   "source": [
    "# Разбиваем датафрейм на части, необходимые для обучения и тестирования модели"
   ]
  },
  {
   "cell_type": "code",
   "execution_count": 431,
   "metadata": {},
   "outputs": [],
   "source": [
    "# Х - данные с информацией о ресторанах, у - целевая переменная (рейтинги\n",
    "# ресторанов)\n",
    "X = df.drop(['Rating'], axis = 1)\n",
    "y = df['Rating']"
   ]
  },
  {
   "cell_type": "code",
   "execution_count": 28,
   "metadata": {},
   "outputs": [],
   "source": [
    "# Загружаем специальный инструмент для разбивки:\n",
    "from sklearn.model_selection import train_test_split"
   ]
  },
  {
   "cell_type": "code",
   "execution_count": 432,
   "metadata": {},
   "outputs": [],
   "source": [
    "# Наборы данных с меткой \"train\" будут использоваться для обучения модели,\n",
    "# \"test\" - для тестирования.\n",
    "# Для тестирования мы будем использовать 25% от исходного датасета.\n",
    "X_train, X_test, y_train, y_test = train_test_split(X, y, test_size=0.25)"
   ]
  },
  {
   "cell_type": "markdown",
   "metadata": {},
   "source": [
    "# Создаём, обучаем и тестируем модель"
   ]
  },
  {
   "cell_type": "code",
   "execution_count": 30,
   "metadata": {},
   "outputs": [],
   "source": [
    "# Импортируем необходимые библиотеки:\n",
    "from sklearn.ensemble import RandomForestRegressor # инструмент для создания\n",
    "# и обучения модели\n",
    "from sklearn import metrics # инструменты для оценки точности модели"
   ]
  },
  {
   "cell_type": "code",
   "execution_count": 433,
   "metadata": {},
   "outputs": [],
   "source": [
    "# Создаём модель\n",
    "regr = RandomForestRegressor(n_estimators=100)\n",
    "\n",
    "# Обучаем модель на тестовом наборе данных\n",
    "regr.fit(X_train, y_train)\n",
    "\n",
    "# Используем обученную модель для предсказания рейтинга ресторанов в тестовой\n",
    "# выборке.\n",
    "# Предсказанные значения записываем в переменную y_pred\n",
    "y_pred = regr.predict(X_test)"
   ]
  },
  {
   "cell_type": "code",
   "execution_count": 434,
   "metadata": {},
   "outputs": [
    {
     "name": "stdout",
     "output_type": "stream",
     "text": [
      "MAE: 0.2090885\n"
     ]
    }
   ],
   "source": [
    "# Сравниваем предсказанные значения (y_pred) с реальными (y_test), и смотрим\n",
    "# насколько они в среднем отличаются\n",
    "# Метрика называется Mean Absolute Error (MAE) и показывает среднее отклонение\n",
    "# предсказанных значений от фактических.\n",
    "print('MAE:', metrics.mean_absolute_error(y_test, y_pred))"
   ]
  },
  {
   "cell_type": "code",
   "execution_count": 284,
   "metadata": {},
   "outputs": [
    {
     "data": {
      "text/html": [
       "<div>\n",
       "<style scoped>\n",
       "    .dataframe tbody tr th:only-of-type {\n",
       "        vertical-align: middle;\n",
       "    }\n",
       "\n",
       "    .dataframe tbody tr th {\n",
       "        vertical-align: top;\n",
       "    }\n",
       "\n",
       "    .dataframe thead th {\n",
       "        text-align: right;\n",
       "    }\n",
       "</style>\n",
       "<table border=\"1\" class=\"dataframe\">\n",
       "  <thead>\n",
       "    <tr style=\"text-align: right;\">\n",
       "      <th></th>\n",
       "      <th>Ranking</th>\n",
       "      <th>Rating</th>\n",
       "      <th>Number of Reviews</th>\n",
       "      <th>cuisine_count</th>\n",
       "      <th>date_interval</th>\n",
       "      <th>date1</th>\n",
       "      <th>date2</th>\n",
       "      <th>restaurant_other</th>\n",
       "      <th>Price Range_$</th>\n",
       "      <th>Price Range_$$ - $$$</th>\n",
       "      <th>...</th>\n",
       "      <th>City_Munich</th>\n",
       "      <th>City_Oporto</th>\n",
       "      <th>City_Oslo</th>\n",
       "      <th>City_Paris</th>\n",
       "      <th>City_Prague</th>\n",
       "      <th>City_Rome</th>\n",
       "      <th>City_Stockholm</th>\n",
       "      <th>City_Vienna</th>\n",
       "      <th>City_Warsaw</th>\n",
       "      <th>City_Zurich</th>\n",
       "    </tr>\n",
       "  </thead>\n",
       "  <tbody>\n",
       "    <tr>\n",
       "      <th>0</th>\n",
       "      <td>5570.0</td>\n",
       "      <td>3.5</td>\n",
       "      <td>194.0</td>\n",
       "      <td>3</td>\n",
       "      <td>41.0</td>\n",
       "      <td>57.0</td>\n",
       "      <td>98.0</td>\n",
       "      <td>1</td>\n",
       "      <td>0</td>\n",
       "      <td>1</td>\n",
       "      <td>...</td>\n",
       "      <td>0</td>\n",
       "      <td>0</td>\n",
       "      <td>0</td>\n",
       "      <td>1</td>\n",
       "      <td>0</td>\n",
       "      <td>0</td>\n",
       "      <td>0</td>\n",
       "      <td>0</td>\n",
       "      <td>0</td>\n",
       "      <td>0</td>\n",
       "    </tr>\n",
       "    <tr>\n",
       "      <th>1</th>\n",
       "      <td>1537.0</td>\n",
       "      <td>4.0</td>\n",
       "      <td>10.0</td>\n",
       "      <td>1</td>\n",
       "      <td>382.0</td>\n",
       "      <td>235.0</td>\n",
       "      <td>617.0</td>\n",
       "      <td>1</td>\n",
       "      <td>0</td>\n",
       "      <td>0</td>\n",
       "      <td>...</td>\n",
       "      <td>0</td>\n",
       "      <td>0</td>\n",
       "      <td>0</td>\n",
       "      <td>0</td>\n",
       "      <td>0</td>\n",
       "      <td>0</td>\n",
       "      <td>1</td>\n",
       "      <td>0</td>\n",
       "      <td>0</td>\n",
       "      <td>0</td>\n",
       "    </tr>\n",
       "    <tr>\n",
       "      <th>2</th>\n",
       "      <td>353.0</td>\n",
       "      <td>4.5</td>\n",
       "      <td>688.0</td>\n",
       "      <td>7</td>\n",
       "      <td>2.0</td>\n",
       "      <td>49.0</td>\n",
       "      <td>51.0</td>\n",
       "      <td>1</td>\n",
       "      <td>0</td>\n",
       "      <td>0</td>\n",
       "      <td>...</td>\n",
       "      <td>0</td>\n",
       "      <td>0</td>\n",
       "      <td>0</td>\n",
       "      <td>0</td>\n",
       "      <td>0</td>\n",
       "      <td>0</td>\n",
       "      <td>0</td>\n",
       "      <td>0</td>\n",
       "      <td>0</td>\n",
       "      <td>0</td>\n",
       "    </tr>\n",
       "    <tr>\n",
       "      <th>3</th>\n",
       "      <td>3458.0</td>\n",
       "      <td>5.0</td>\n",
       "      <td>3.0</td>\n",
       "      <td>1</td>\n",
       "      <td>67.0</td>\n",
       "      <td>167.0</td>\n",
       "      <td>230.0</td>\n",
       "      <td>1</td>\n",
       "      <td>0</td>\n",
       "      <td>0</td>\n",
       "      <td>...</td>\n",
       "      <td>0</td>\n",
       "      <td>0</td>\n",
       "      <td>0</td>\n",
       "      <td>0</td>\n",
       "      <td>0</td>\n",
       "      <td>0</td>\n",
       "      <td>0</td>\n",
       "      <td>0</td>\n",
       "      <td>0</td>\n",
       "      <td>0</td>\n",
       "    </tr>\n",
       "    <tr>\n",
       "      <th>4</th>\n",
       "      <td>621.0</td>\n",
       "      <td>4.0</td>\n",
       "      <td>84.0</td>\n",
       "      <td>3</td>\n",
       "      <td>272.0</td>\n",
       "      <td>100.0</td>\n",
       "      <td>372.0</td>\n",
       "      <td>1</td>\n",
       "      <td>0</td>\n",
       "      <td>1</td>\n",
       "      <td>...</td>\n",
       "      <td>1</td>\n",
       "      <td>0</td>\n",
       "      <td>0</td>\n",
       "      <td>0</td>\n",
       "      <td>0</td>\n",
       "      <td>0</td>\n",
       "      <td>0</td>\n",
       "      <td>0</td>\n",
       "      <td>0</td>\n",
       "      <td>0</td>\n",
       "    </tr>\n",
       "    <tr>\n",
       "      <th>...</th>\n",
       "      <td>...</td>\n",
       "      <td>...</td>\n",
       "      <td>...</td>\n",
       "      <td>...</td>\n",
       "      <td>...</td>\n",
       "      <td>...</td>\n",
       "      <td>...</td>\n",
       "      <td>...</td>\n",
       "      <td>...</td>\n",
       "      <td>...</td>\n",
       "      <td>...</td>\n",
       "      <td>...</td>\n",
       "      <td>...</td>\n",
       "      <td>...</td>\n",
       "      <td>...</td>\n",
       "      <td>...</td>\n",
       "      <td>...</td>\n",
       "      <td>...</td>\n",
       "      <td>...</td>\n",
       "      <td>...</td>\n",
       "      <td>...</td>\n",
       "    </tr>\n",
       "    <tr>\n",
       "      <th>39995</th>\n",
       "      <td>500.0</td>\n",
       "      <td>4.5</td>\n",
       "      <td>79.0</td>\n",
       "      <td>4</td>\n",
       "      <td>34.0</td>\n",
       "      <td>72.0</td>\n",
       "      <td>106.0</td>\n",
       "      <td>1</td>\n",
       "      <td>0</td>\n",
       "      <td>1</td>\n",
       "      <td>...</td>\n",
       "      <td>0</td>\n",
       "      <td>0</td>\n",
       "      <td>0</td>\n",
       "      <td>0</td>\n",
       "      <td>0</td>\n",
       "      <td>0</td>\n",
       "      <td>0</td>\n",
       "      <td>0</td>\n",
       "      <td>0</td>\n",
       "      <td>0</td>\n",
       "    </tr>\n",
       "    <tr>\n",
       "      <th>39996</th>\n",
       "      <td>6341.0</td>\n",
       "      <td>3.5</td>\n",
       "      <td>542.0</td>\n",
       "      <td>5</td>\n",
       "      <td>9.0</td>\n",
       "      <td>67.0</td>\n",
       "      <td>76.0</td>\n",
       "      <td>1</td>\n",
       "      <td>0</td>\n",
       "      <td>1</td>\n",
       "      <td>...</td>\n",
       "      <td>0</td>\n",
       "      <td>0</td>\n",
       "      <td>0</td>\n",
       "      <td>1</td>\n",
       "      <td>0</td>\n",
       "      <td>0</td>\n",
       "      <td>0</td>\n",
       "      <td>0</td>\n",
       "      <td>0</td>\n",
       "      <td>0</td>\n",
       "    </tr>\n",
       "    <tr>\n",
       "      <th>39997</th>\n",
       "      <td>1652.0</td>\n",
       "      <td>4.5</td>\n",
       "      <td>4.0</td>\n",
       "      <td>2</td>\n",
       "      <td>3127.0</td>\n",
       "      <td>480.0</td>\n",
       "      <td>3607.0</td>\n",
       "      <td>1</td>\n",
       "      <td>0</td>\n",
       "      <td>0</td>\n",
       "      <td>...</td>\n",
       "      <td>0</td>\n",
       "      <td>0</td>\n",
       "      <td>0</td>\n",
       "      <td>0</td>\n",
       "      <td>0</td>\n",
       "      <td>0</td>\n",
       "      <td>1</td>\n",
       "      <td>0</td>\n",
       "      <td>0</td>\n",
       "      <td>0</td>\n",
       "    </tr>\n",
       "    <tr>\n",
       "      <th>39998</th>\n",
       "      <td>641.0</td>\n",
       "      <td>4.0</td>\n",
       "      <td>70.0</td>\n",
       "      <td>5</td>\n",
       "      <td>23.0</td>\n",
       "      <td>230.0</td>\n",
       "      <td>253.0</td>\n",
       "      <td>1</td>\n",
       "      <td>0</td>\n",
       "      <td>1</td>\n",
       "      <td>...</td>\n",
       "      <td>0</td>\n",
       "      <td>0</td>\n",
       "      <td>0</td>\n",
       "      <td>0</td>\n",
       "      <td>0</td>\n",
       "      <td>0</td>\n",
       "      <td>0</td>\n",
       "      <td>0</td>\n",
       "      <td>1</td>\n",
       "      <td>0</td>\n",
       "    </tr>\n",
       "    <tr>\n",
       "      <th>39999</th>\n",
       "      <td>4827.0</td>\n",
       "      <td>3.0</td>\n",
       "      <td>260.0</td>\n",
       "      <td>1</td>\n",
       "      <td>1306.0</td>\n",
       "      <td>757.0</td>\n",
       "      <td>2063.0</td>\n",
       "      <td>1</td>\n",
       "      <td>0</td>\n",
       "      <td>1</td>\n",
       "      <td>...</td>\n",
       "      <td>0</td>\n",
       "      <td>0</td>\n",
       "      <td>0</td>\n",
       "      <td>0</td>\n",
       "      <td>0</td>\n",
       "      <td>0</td>\n",
       "      <td>0</td>\n",
       "      <td>0</td>\n",
       "      <td>0</td>\n",
       "      <td>0</td>\n",
       "    </tr>\n",
       "  </tbody>\n",
       "</table>\n",
       "<p>40000 rows × 42 columns</p>\n",
       "</div>"
      ],
      "text/plain": [
       "       Ranking  Rating  Number of Reviews  cuisine_count  date_interval  \\\n",
       "0       5570.0     3.5              194.0              3           41.0   \n",
       "1       1537.0     4.0               10.0              1          382.0   \n",
       "2        353.0     4.5              688.0              7            2.0   \n",
       "3       3458.0     5.0                3.0              1           67.0   \n",
       "4        621.0     4.0               84.0              3          272.0   \n",
       "...        ...     ...                ...            ...            ...   \n",
       "39995    500.0     4.5               79.0              4           34.0   \n",
       "39996   6341.0     3.5              542.0              5            9.0   \n",
       "39997   1652.0     4.5                4.0              2         3127.0   \n",
       "39998    641.0     4.0               70.0              5           23.0   \n",
       "39999   4827.0     3.0              260.0              1         1306.0   \n",
       "\n",
       "       date1   date2  restaurant_other  Price Range_$  Price Range_$$ - $$$  \\\n",
       "0       57.0    98.0                 1              0                     1   \n",
       "1      235.0   617.0                 1              0                     0   \n",
       "2       49.0    51.0                 1              0                     0   \n",
       "3      167.0   230.0                 1              0                     0   \n",
       "4      100.0   372.0                 1              0                     1   \n",
       "...      ...     ...               ...            ...                   ...   \n",
       "39995   72.0   106.0                 1              0                     1   \n",
       "39996   67.0    76.0                 1              0                     1   \n",
       "39997  480.0  3607.0                 1              0                     0   \n",
       "39998  230.0   253.0                 1              0                     1   \n",
       "39999  757.0  2063.0                 1              0                     1   \n",
       "\n",
       "       ...  City_Munich  City_Oporto  City_Oslo  City_Paris  City_Prague  \\\n",
       "0      ...            0            0          0           1            0   \n",
       "1      ...            0            0          0           0            0   \n",
       "2      ...            0            0          0           0            0   \n",
       "3      ...            0            0          0           0            0   \n",
       "4      ...            1            0          0           0            0   \n",
       "...    ...          ...          ...        ...         ...          ...   \n",
       "39995  ...            0            0          0           0            0   \n",
       "39996  ...            0            0          0           1            0   \n",
       "39997  ...            0            0          0           0            0   \n",
       "39998  ...            0            0          0           0            0   \n",
       "39999  ...            0            0          0           0            0   \n",
       "\n",
       "       City_Rome  City_Stockholm  City_Vienna  City_Warsaw  City_Zurich  \n",
       "0              0               0            0            0            0  \n",
       "1              0               1            0            0            0  \n",
       "2              0               0            0            0            0  \n",
       "3              0               0            0            0            0  \n",
       "4              0               0            0            0            0  \n",
       "...          ...             ...          ...          ...          ...  \n",
       "39995          0               0            0            0            0  \n",
       "39996          0               0            0            0            0  \n",
       "39997          0               1            0            0            0  \n",
       "39998          0               0            0            1            0  \n",
       "39999          0               0            0            0            0  \n",
       "\n",
       "[40000 rows x 42 columns]"
      ]
     },
     "execution_count": 284,
     "metadata": {},
     "output_type": "execute_result"
    }
   ],
   "source": [
    "df"
   ]
  },
  {
   "cell_type": "code",
   "execution_count": 117,
   "metadata": {},
   "outputs": [],
   "source": []
  },
  {
   "cell_type": "code",
   "execution_count": null,
   "metadata": {},
   "outputs": [],
   "source": []
  }
 ],
 "metadata": {
  "kernelspec": {
   "display_name": "Python 3",
   "language": "python",
   "name": "python3"
  },
  "language_info": {
   "codemirror_mode": {
    "name": "ipython",
    "version": 3
   },
   "file_extension": ".py",
   "mimetype": "text/x-python",
   "name": "python",
   "nbconvert_exporter": "python",
   "pygments_lexer": "ipython3",
   "version": "3.8.5"
  }
 },
 "nbformat": 4,
 "nbformat_minor": 2
}
